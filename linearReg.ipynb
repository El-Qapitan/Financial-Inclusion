{
 "cells": [
  {
   "cell_type": "code",
   "execution_count": 1,
   "id": "86473ef1",
   "metadata": {},
   "outputs": [],
   "source": [
    "import pandas as pd\n",
    "import numpy as np\n",
    "import matplotlib.pyplot as plt"
   ]
  },
  {
   "cell_type": "code",
   "execution_count": 2,
   "id": "9b8bca5c",
   "metadata": {},
   "outputs": [],
   "source": [
    "#variables to store mean and standard deviation for each feature\n",
    "mu = []\n",
    "std = []"
   ]
  },
  {
   "cell_type": "code",
   "execution_count": 3,
   "id": "0b222ef2",
   "metadata": {},
   "outputs": [],
   "source": [
    "def load_data(filename):\n",
    "\tdf = pd.read_csv(filename, sep=\",\", index_col=False)\n",
    "\tdf.columns = [\"housesize\", \"rooms\", \"price\"]\n",
    "\tdata = np.array(df, dtype=float)\n",
    "\tplot_data(data[:,:2], data[:, -1])\n",
    "\tnormalize(data)\n",
    "\treturn data[:,:2], data[:, -1]"
   ]
  },
  {
   "cell_type": "raw",
   "id": "4584bd84",
   "metadata": {},
   "source": [
    "Normalize the data\n",
    "The above code not only loads the data but also normalizes it and plots the data points. We will look at the plot of the data in a bit but first lets understand what the normalize(data) line is doing above. If you look at the raw dataset you will notice that the values in the second column (i.e. the number of rooms) are much smaller than the those in the first (i.e house size). Our model does not evaluate this data as number of rooms or size of house. For the model its all just numbers. This can create an unwanted bias in your machine learning model towards the columns (or features) that have higher numerical values than the others. It can also create imbalance in the variance and mathematical mean. For these reasons and also to make the job easier it is always advised to scale or normalize your features so that they all lie within the same range ( e.g. [-1 to 1] or [0 to 1] ). This makes training much easier. So for our purpose here we will be using feature normalization which in the mathematical sense means:\n",
    "\n",
    "Z = (x — μ) / σ\n",
    "\n",
    "μ : mean\n",
    "\n",
    "σ : standard deviation\n",
    "\n",
    "In the above formula z is our normalized feature and x is the non-normalized feature. Don’t worry if you are not very familiar with these mathematical concepts. A quick review should get you going. Alright so now that we have our normalization formula lets make a function for normalization:"
   ]
  },
  {
   "cell_type": "code",
   "execution_count": 4,
   "id": "ce3a0adc",
   "metadata": {},
   "outputs": [],
   "source": [
    "def normalize(data):\n",
    "\tfor i in range(0,data.shape[1]-1):\n",
    "\t\tdata[:,i] = ((data[:,i] - np.mean(data[:,i]))/np.std(data[:, i]))"
   ]
  },
  {
   "cell_type": "raw",
   "id": "12df4225",
   "metadata": {},
   "source": [
    "This code does exactly what we have discussed. It goes through each column and normalizes all data elements of that column using the mean and standard deviation of those elements"
   ]
  },
  {
   "cell_type": "raw",
   "id": "f854f987",
   "metadata": {},
   "source": [
    "Plot the data\n",
    "Now before we jump to coding our linear regression model one thing we need to ask is WHY?\n",
    "\n",
    "Why are we solving this problem using linear regression? This is a very valid question and before actually jumping to any concrete code you should be very clear about what algorithm you want to use and if that really is the best option given the dataset and the problem you are trying to solve. One way we can prove why using linear regression will work for our current dataset is by plotting it. For that purpose we have called the plot_data function in load_data above. Lets define the plot_data function now:"
   ]
  },
  {
   "cell_type": "code",
   "execution_count": 5,
   "id": "3d7df9b5",
   "metadata": {},
   "outputs": [],
   "source": [
    "def plot_data(x, y):\n",
    "\tplt.xlabel('house size')\n",
    "\tplt.ylabel('price')\n",
    "\tplt.plot(x[:,0], y, 'bo')\n",
    "\tplt.show()"
   ]
  },
  {
   "cell_type": "raw",
   "id": "1aff1346",
   "metadata": {},
   "source": [
    "Hypothesis\n",
    "First of all we need to define what our hypothesis function looks like because we will be using this hypothesis for calculating the cost later on. We know for linear regression our hypothesis is:\n",
    "\n",
    "hθ(x) = θ0 + θ1x1 + θ2x2 + θ3x3 +…..+ θnxn\n",
    "\n",
    "Our dataset however has only 2 features, so for our current problem the hypothesis is:\n",
    "\n",
    "hθ(x) = θ0 + θ1x1 + θ2x2\n",
    "\n",
    "where x1 and x2 are the two features (i.e. size of house and number of rooms). Lets put this in a simple python function which returns the hypothesis:\n",
    "\n",
    "\n",
    "Woah what’s with the matrix multiplication?! Don’t worry it still gives us the same hypothesis equation and we will take a deeper look into why this is mathematically correct later in this post.\n",
    "\n",
    "Okay so now we have the hypothesis function, the next important thing is the cost function.\n",
    "\n"
   ]
  },
  {
   "cell_type": "code",
   "execution_count": 6,
   "id": "75e4a485",
   "metadata": {},
   "outputs": [],
   "source": [
    "def h(x,theta):\n",
    "\treturn np.matmul(x, theta)"
   ]
  },
  {
   "cell_type": "raw",
   "id": "d9744511",
   "metadata": {},
   "source": [
    "Cost Function\n",
    "To evaluate the quality of our model we make use of the cost function. Again this post is the exact “code version” of:"
   ]
  },
  {
   "cell_type": "code",
   "execution_count": 7,
   "id": "94cf5303",
   "metadata": {},
   "outputs": [],
   "source": [
    "def cost_function(x, y, theta):\n",
    "\treturn ((h(x, theta)-y).T@(h(x, theta)-y))/(2*y.shape[0])"
   ]
  },
  {
   "cell_type": "raw",
   "id": "31af03c8",
   "metadata": {},
   "source": [
    "Now that we have the cost we must minimize it and for that we use… yes gradient descent indeed!"
   ]
  },
  {
   "cell_type": "raw",
   "id": "838327ce",
   "metadata": {},
   "source": [
    "Gradient Descent\n",
    "Gradient descent in our context is an optimization algorithm that aims to adjust the parameters in order to minimize the cost function .\n",
    "\n",
    "The main update step for gradient descent is:"
   ]
  },
  {
   "cell_type": "raw",
   "id": "9df30f85",
   "metadata": {},
   "source": [
    "So we multiply the derivative of the cost function with the learning rate(α) and subtract it from the present value of the parameters(θ) to get the new updated parameters(θ)."
   ]
  },
  {
   "cell_type": "code",
   "execution_count": 8,
   "id": "4bcfda63",
   "metadata": {},
   "outputs": [],
   "source": [
    "def gradient_descent(x, y, theta, learning_rate=0.1, num_epochs=10):\n",
    "\tm = x.shape[0]\n",
    "\tJ_all = []\n",
    "\t\n",
    "\tfor _ in range(num_epochs):\n",
    "\t\th_x = h(x, theta)\n",
    "\t\tcost_ = (1/m)*(x.T@(h_x - y))\n",
    "\t\ttheta = theta - (learning_rate)*cost_\n",
    "\t\tJ_all.append(cost_function(x, y, theta))\n",
    "\n",
    "\treturn theta, J_all "
   ]
  },
  {
   "cell_type": "code",
   "execution_count": null,
   "id": "618fb246",
   "metadata": {},
   "outputs": [],
   "source": []
  },
  {
   "cell_type": "raw",
   "id": "db00ee64",
   "metadata": {},
   "source": [
    "The gradient_descent function returns theta and J_all. theta is obviously our parameter vector which contains the values of θs for the hypothesis and J_all is a list containing the cost function after each epoch. The J_all variable isn’t exactly essential but it helps to analyze the model better as you will see later in the post."
   ]
  },
  {
   "cell_type": "code",
   "execution_count": 9,
   "id": "c6cf58f1",
   "metadata": {},
   "outputs": [],
   "source": [
    "def plot_cost(J_all, num_epochs):\n",
    "\tplt.xlabel('Epochs')\n",
    "\tplt.ylabel('Cost')\n",
    "\tplt.plot(num_epochs, J_all, 'm', linewidth = \"5\")\n",
    "\tplt.show()"
   ]
  },
  {
   "cell_type": "code",
   "execution_count": 10,
   "id": "1731604e",
   "metadata": {},
   "outputs": [],
   "source": [
    "def test(theta, x):\n",
    "\tx[0] = (x[0] - mu[0])/std[0]\n",
    "\tx[1] = (x[1] - mu[1])/std[1]\n",
    "\ty = theta[0] + theta[1]*x[0] + theta[2]*x[1]\n",
    "\tprint(\"Price of house: \", y)\n"
   ]
  },
  {
   "cell_type": "raw",
   "id": "426c9736",
   "metadata": {},
   "source": [
    "Putting it all together\n",
    "Now all that's left to do is call our functions in the correct order:"
   ]
  },
  {
   "cell_type": "code",
   "execution_count": 14,
   "id": "ce8f9fb2",
   "metadata": {},
   "outputs": [
    {
     "data": {
      "image/png": "[encoded data removed]",
      "text/plain": [
       "<Figure size 432x288 with 1 Axes>"
      ]
     },
     "metadata": {
      "needs_background": "light"
     },
     "output_type": "display_data"
    }
   ],
   "source": [
    "x,y = load_data(\"house_price_data.txt\")"
   ]
  },
  {
   "cell_type": "code",
   "execution_count": 17,
   "id": "0f503694",
   "metadata": {},
   "outputs": [],
   "source": [
    "y = np.reshape(y, (46,1))"
   ]
  },
  {
   "cell_type": "code",
   "execution_count": 2,
   "id": "7e240252",
   "metadata": {},
   "outputs": [
    {
     "ename": "NameError",
     "evalue": "name 'np' is not defined",
     "output_type": "error",
     "traceback": [
      "\u001b[1;31m---------------------------------------------------------------------------\u001b[0m",
      "\u001b[1;31mNameError\u001b[0m                                 Traceback (most recent call last)",
      "\u001b[1;32m~\\AppData\\Local\\Temp/ipykernel_1600/3536026536.py\u001b[0m in \u001b[0;36m<module>\u001b[1;34m\u001b[0m\n\u001b[1;32m----> 1\u001b[1;33m \u001b[0mx\u001b[0m \u001b[1;33m=\u001b[0m \u001b[0mnp\u001b[0m\u001b[1;33m.\u001b[0m\u001b[0mhstack\u001b[0m\u001b[1;33m(\u001b[0m\u001b[1;33m(\u001b[0m\u001b[0mnp\u001b[0m\u001b[1;33m.\u001b[0m\u001b[0mones\u001b[0m\u001b[1;33m(\u001b[0m\u001b[1;33m(\u001b[0m\u001b[0mx\u001b[0m\u001b[1;33m.\u001b[0m\u001b[0mshape\u001b[0m\u001b[1;33m[\u001b[0m\u001b[1;36m0\u001b[0m\u001b[1;33m]\u001b[0m\u001b[1;33m,\u001b[0m\u001b[1;36m1\u001b[0m\u001b[1;33m)\u001b[0m\u001b[1;33m)\u001b[0m\u001b[1;33m,\u001b[0m \u001b[0mx\u001b[0m\u001b[1;33m)\u001b[0m\u001b[1;33m)\u001b[0m\u001b[1;33m\u001b[0m\u001b[1;33m\u001b[0m\u001b[0m\n\u001b[0m",
      "\u001b[1;31mNameError\u001b[0m: name 'np' is not defined"
     ]
    }
   ],
   "source": [
    "x = np.hstack((np.ones((x.shape[0],1)), x))\n"
   ]
  },
  {
   "cell_type": "code",
   "execution_count": 21,
   "id": "7fb77477",
   "metadata": {},
   "outputs": [
    {
     "name": "stdout",
     "output_type": "stream",
     "text": [
      "Cost:  [[2.08322581e+09]]\n",
      "Parameters:  [[ 1.13039817e+05]\n",
      " [ 1.13039817e+05]\n",
      " [ 1.13039817e+05]\n",
      " [ 1.04066024e+05]\n",
      " [-6.47874139e+01]]\n"
     ]
    },
    {
     "data": {
      "image/png": "[encoded data removed]",
      "text/plain": [
       "<Figure size 432x288 with 1 Axes>"
      ]
     },
     "metadata": {
      "needs_background": "light"
     },
     "output_type": "display_data"
    },
    {
     "ename": "IndexError",
     "evalue": "list index out of range",
     "output_type": "error",
     "traceback": [
      "\u001b[1;31m---------------------------------------------------------------------------\u001b[0m",
      "\u001b[1;31mIndexError\u001b[0m                                Traceback (most recent call last)",
      "\u001b[1;32m~\\AppData\\Local\\Temp/ipykernel_13748/4147424389.py\u001b[0m in \u001b[0;36m<module>\u001b[1;34m\u001b[0m\n\u001b[0;32m     19\u001b[0m \u001b[0mplot_cost\u001b[0m\u001b[1;33m(\u001b[0m\u001b[0mjplot\u001b[0m\u001b[1;33m,\u001b[0m \u001b[0mn_epochs\u001b[0m\u001b[1;33m)\u001b[0m\u001b[1;33m\u001b[0m\u001b[1;33m\u001b[0m\u001b[0m\n\u001b[0;32m     20\u001b[0m \u001b[1;33m\u001b[0m\u001b[0m\n\u001b[1;32m---> 21\u001b[1;33m \u001b[0mtest\u001b[0m\u001b[1;33m(\u001b[0m\u001b[0mtheta\u001b[0m\u001b[1;33m,\u001b[0m \u001b[1;33m[\u001b[0m\u001b[1;36m1600\u001b[0m\u001b[1;33m,\u001b[0m \u001b[1;36m2\u001b[0m\u001b[1;33m]\u001b[0m\u001b[1;33m)\u001b[0m\u001b[1;33m\u001b[0m\u001b[1;33m\u001b[0m\u001b[0m\n\u001b[0m",
      "\u001b[1;32m~\\AppData\\Local\\Temp/ipykernel_13748/2979667435.py\u001b[0m in \u001b[0;36mtest\u001b[1;34m(theta, x)\u001b[0m\n\u001b[0;32m      1\u001b[0m \u001b[1;32mdef\u001b[0m \u001b[0mtest\u001b[0m\u001b[1;33m(\u001b[0m\u001b[0mtheta\u001b[0m\u001b[1;33m,\u001b[0m \u001b[0mx\u001b[0m\u001b[1;33m)\u001b[0m\u001b[1;33m:\u001b[0m\u001b[1;33m\u001b[0m\u001b[1;33m\u001b[0m\u001b[0m\n\u001b[1;32m----> 2\u001b[1;33m         \u001b[0mx\u001b[0m\u001b[1;33m[\u001b[0m\u001b[1;36m0\u001b[0m\u001b[1;33m]\u001b[0m \u001b[1;33m=\u001b[0m \u001b[1;33m(\u001b[0m\u001b[0mx\u001b[0m\u001b[1;33m[\u001b[0m\u001b[1;36m0\u001b[0m\u001b[1;33m]\u001b[0m \u001b[1;33m-\u001b[0m \u001b[0mmu\u001b[0m\u001b[1;33m[\u001b[0m\u001b[1;36m0\u001b[0m\u001b[1;33m]\u001b[0m\u001b[1;33m)\u001b[0m\u001b[1;33m/\u001b[0m\u001b[0mstd\u001b[0m\u001b[1;33m[\u001b[0m\u001b[1;36m0\u001b[0m\u001b[1;33m]\u001b[0m\u001b[1;33m\u001b[0m\u001b[1;33m\u001b[0m\u001b[0m\n\u001b[0m\u001b[0;32m      3\u001b[0m         \u001b[0mx\u001b[0m\u001b[1;33m[\u001b[0m\u001b[1;36m1\u001b[0m\u001b[1;33m]\u001b[0m \u001b[1;33m=\u001b[0m \u001b[1;33m(\u001b[0m\u001b[0mx\u001b[0m\u001b[1;33m[\u001b[0m\u001b[1;36m1\u001b[0m\u001b[1;33m]\u001b[0m \u001b[1;33m-\u001b[0m \u001b[0mmu\u001b[0m\u001b[1;33m[\u001b[0m\u001b[1;36m1\u001b[0m\u001b[1;33m]\u001b[0m\u001b[1;33m)\u001b[0m\u001b[1;33m/\u001b[0m\u001b[0mstd\u001b[0m\u001b[1;33m[\u001b[0m\u001b[1;36m1\u001b[0m\u001b[1;33m]\u001b[0m\u001b[1;33m\u001b[0m\u001b[1;33m\u001b[0m\u001b[0m\n\u001b[0;32m      4\u001b[0m         \u001b[0my\u001b[0m \u001b[1;33m=\u001b[0m \u001b[0mtheta\u001b[0m\u001b[1;33m[\u001b[0m\u001b[1;36m0\u001b[0m\u001b[1;33m]\u001b[0m \u001b[1;33m+\u001b[0m \u001b[0mtheta\u001b[0m\u001b[1;33m[\u001b[0m\u001b[1;36m1\u001b[0m\u001b[1;33m]\u001b[0m\u001b[1;33m*\u001b[0m\u001b[0mx\u001b[0m\u001b[1;33m[\u001b[0m\u001b[1;36m0\u001b[0m\u001b[1;33m]\u001b[0m \u001b[1;33m+\u001b[0m \u001b[0mtheta\u001b[0m\u001b[1;33m[\u001b[0m\u001b[1;36m2\u001b[0m\u001b[1;33m]\u001b[0m\u001b[1;33m*\u001b[0m\u001b[0mx\u001b[0m\u001b[1;33m[\u001b[0m\u001b[1;36m1\u001b[0m\u001b[1;33m]\u001b[0m\u001b[1;33m\u001b[0m\u001b[1;33m\u001b[0m\u001b[0m\n\u001b[0;32m      5\u001b[0m         \u001b[0mprint\u001b[0m\u001b[1;33m(\u001b[0m\u001b[1;34m\"Price of house: \"\u001b[0m\u001b[1;33m,\u001b[0m \u001b[0my\u001b[0m\u001b[1;33m)\u001b[0m\u001b[1;33m\u001b[0m\u001b[1;33m\u001b[0m\u001b[0m\n",
      "\u001b[1;31mIndexError\u001b[0m: list index out of range"
     ]
    }
   ],
   "source": [
    "theta = np.zeros((x.shape[1], 1))\n",
    "learning_rate = 0.1\n",
    "num_epochs = 50\n",
    "theta, J_all = gradient_descent(x, y, theta, learning_rate, num_epochs)\n",
    "J = cost_function(x, y, theta)\n",
    "print(\"Cost: \", J)\n",
    "print(\"Parameters: \", theta)\n",
    "\n",
    "#for testing and plotting cost \n",
    "n_epochs = []\n",
    "jplot = []\n",
    "count = 0\n",
    "for i in J_all:\n",
    "\tjplot.append(i[0][0])\n",
    "\tn_epochs.append(count)\n",
    "\tcount += 1\n",
    "jplot = np.array(jplot)\n",
    "n_epochs = np.array(n_epochs)\n",
    "plot_cost(jplot, n_epochs)\n",
    "\n",
    "test(theta, [1600, 2])\n"
   ]
  }
 ],
 "metadata": {
  "kernelspec": {
   "display_name": "Python 3 (ipykernel)",
   "language": "python",
   "name": "python3"
  },
  "language_info": {
   "codemirror_mode": {
    "name": "ipython",
    "version": 3
   },
   "file_extension": ".py",
   "mimetype": "text/x-python",
   "name": "python",
   "nbconvert_exporter": "python",
   "pygments_lexer": "ipython3",
   "version": "3.9.7"
  }
 },
 "nbformat": 4,
 "nbformat_minor": 5
}
