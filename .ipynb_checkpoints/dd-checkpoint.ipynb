{
 "cells": [
  {
   "cell_type": "markdown",
   "id": "1a1decef",
   "metadata": {},
   "source": [
    "# Problem Statement"
   ]
  },
  {
   "cell_type": "markdown",
   "id": "e12aee9e",
   "metadata": {},
   "source": [
    "Financial inclusion remains one of the main obstacles to economic and human development in Africa. For example, across Kenya, Rwanda, Tanzania, and Uganda only 9.1 million adults (or 14% of adults) have access to or use a commercial bank account."
   ]
  },
  {
   "cell_type": "markdown",
   "id": "c7421b10",
   "metadata": {},
   "source": [
    "## Objective "
   ]
  },
  {
   "cell_type": "markdown",
   "id": "98f2fc84",
   "metadata": {},
   "source": [
    "The objective of this competition is to create a machine learning model to predict which individuals are most likely to have or use a bank account. The models and solutions developed can provide an indication of the state of financial inclusion in Kenya, Rwanda, Tanzania and Uganda, while providing insights into some of the key factors driving individuals’ financial security."
   ]
  },
  {
   "cell_type": "markdown",
   "id": "ded79c22",
   "metadata": {},
   "source": [
    "## Data Importation"
   ]
  },
  {
   "cell_type": "markdown",
   "id": "67333195",
   "metadata": {},
   "source": [
    "We start by our analysis by importing necessary libraries and dataset. "
   ]
  },
  {
   "cell_type": "code",
   "execution_count": 1,
   "id": "7941f03d",
   "metadata": {},
   "outputs": [],
   "source": [
    "import numpy as np\n",
    "import pandas as pd\n",
    "from pandas import Series, DataFrame\n",
    "import matplotlib.pyplot as plt\n",
    "import seaborn as sns"
   ]
  },
  {
   "cell_type": "code",
   "execution_count": 2,
   "id": "42c1c3c0",
   "metadata": {},
   "outputs": [],
   "source": [
    "df = pd.read_csv('Train.csv')"
   ]
  },
  {
   "cell_type": "code",
   "execution_count": 3,
   "id": "78e2e902",
   "metadata": {},
   "outputs": [
    {
     "data": {
      "text/html": [
       "<div>\n",
       "<style scoped>\n",
       "    .dataframe tbody tr th:only-of-type {\n",
       "        vertical-align: middle;\n",
       "    }\n",
       "\n",
       "    .dataframe tbody tr th {\n",
       "        vertical-align: top;\n",
       "    }\n",
       "\n",
       "    .dataframe thead th {\n",
       "        text-align: right;\n",
       "    }\n",
       "</style>\n",
       "<table border=\"1\" class=\"dataframe\">\n",
       "  <thead>\n",
       "    <tr style=\"text-align: right;\">\n",
       "      <th></th>\n",
       "      <th>country</th>\n",
       "      <th>year</th>\n",
       "      <th>uniqueid</th>\n",
       "      <th>bank_account</th>\n",
       "      <th>location_type</th>\n",
       "      <th>cellphone_access</th>\n",
       "      <th>household_size</th>\n",
       "      <th>age_of_respondent</th>\n",
       "      <th>gender_of_respondent</th>\n",
       "      <th>relationship_with_head</th>\n",
       "      <th>marital_status</th>\n",
       "      <th>education_level</th>\n",
       "      <th>job_type</th>\n",
       "    </tr>\n",
       "  </thead>\n",
       "  <tbody>\n",
       "    <tr>\n",
       "      <th>0</th>\n",
       "      <td>Kenya</td>\n",
       "      <td>2018</td>\n",
       "      <td>uniqueid_1</td>\n",
       "      <td>Yes</td>\n",
       "      <td>Rural</td>\n",
       "      <td>Yes</td>\n",
       "      <td>3</td>\n",
       "      <td>24</td>\n",
       "      <td>Female</td>\n",
       "      <td>Spouse</td>\n",
       "      <td>Married/Living together</td>\n",
       "      <td>Secondary education</td>\n",
       "      <td>Self employed</td>\n",
       "    </tr>\n",
       "    <tr>\n",
       "      <th>1</th>\n",
       "      <td>Kenya</td>\n",
       "      <td>2018</td>\n",
       "      <td>uniqueid_2</td>\n",
       "      <td>No</td>\n",
       "      <td>Rural</td>\n",
       "      <td>No</td>\n",
       "      <td>5</td>\n",
       "      <td>70</td>\n",
       "      <td>Female</td>\n",
       "      <td>Head of Household</td>\n",
       "      <td>Widowed</td>\n",
       "      <td>No formal education</td>\n",
       "      <td>Government Dependent</td>\n",
       "    </tr>\n",
       "    <tr>\n",
       "      <th>2</th>\n",
       "      <td>Kenya</td>\n",
       "      <td>2018</td>\n",
       "      <td>uniqueid_3</td>\n",
       "      <td>Yes</td>\n",
       "      <td>Urban</td>\n",
       "      <td>Yes</td>\n",
       "      <td>5</td>\n",
       "      <td>26</td>\n",
       "      <td>Male</td>\n",
       "      <td>Other relative</td>\n",
       "      <td>Single/Never Married</td>\n",
       "      <td>Vocational/Specialised training</td>\n",
       "      <td>Self employed</td>\n",
       "    </tr>\n",
       "    <tr>\n",
       "      <th>3</th>\n",
       "      <td>Kenya</td>\n",
       "      <td>2018</td>\n",
       "      <td>uniqueid_4</td>\n",
       "      <td>No</td>\n",
       "      <td>Rural</td>\n",
       "      <td>Yes</td>\n",
       "      <td>5</td>\n",
       "      <td>34</td>\n",
       "      <td>Female</td>\n",
       "      <td>Head of Household</td>\n",
       "      <td>Married/Living together</td>\n",
       "      <td>Primary education</td>\n",
       "      <td>Formally employed Private</td>\n",
       "    </tr>\n",
       "    <tr>\n",
       "      <th>4</th>\n",
       "      <td>Kenya</td>\n",
       "      <td>2018</td>\n",
       "      <td>uniqueid_5</td>\n",
       "      <td>No</td>\n",
       "      <td>Urban</td>\n",
       "      <td>No</td>\n",
       "      <td>8</td>\n",
       "      <td>26</td>\n",
       "      <td>Male</td>\n",
       "      <td>Child</td>\n",
       "      <td>Single/Never Married</td>\n",
       "      <td>Primary education</td>\n",
       "      <td>Informally employed</td>\n",
       "    </tr>\n",
       "  </tbody>\n",
       "</table>\n",
       "</div>"
      ],
      "text/plain": [
       "  country  year    uniqueid bank_account location_type cellphone_access  \\\n",
       "0   Kenya  2018  uniqueid_1          Yes         Rural              Yes   \n",
       "1   Kenya  2018  uniqueid_2           No         Rural               No   \n",
       "2   Kenya  2018  uniqueid_3          Yes         Urban              Yes   \n",
       "3   Kenya  2018  uniqueid_4           No         Rural              Yes   \n",
       "4   Kenya  2018  uniqueid_5           No         Urban               No   \n",
       "\n",
       "   household_size  age_of_respondent gender_of_respondent  \\\n",
       "0               3                 24               Female   \n",
       "1               5                 70               Female   \n",
       "2               5                 26                 Male   \n",
       "3               5                 34               Female   \n",
       "4               8                 26                 Male   \n",
       "\n",
       "  relationship_with_head           marital_status  \\\n",
       "0                 Spouse  Married/Living together   \n",
       "1      Head of Household                  Widowed   \n",
       "2         Other relative     Single/Never Married   \n",
       "3      Head of Household  Married/Living together   \n",
       "4                  Child     Single/Never Married   \n",
       "\n",
       "                   education_level                   job_type  \n",
       "0              Secondary education              Self employed  \n",
       "1              No formal education       Government Dependent  \n",
       "2  Vocational/Specialised training              Self employed  \n",
       "3                Primary education  Formally employed Private  \n",
       "4                Primary education        Informally employed  "
      ]
     },
     "execution_count": 3,
     "metadata": {},
     "output_type": "execute_result"
    }
   ],
   "source": [
    "df.head()"
   ]
  },
  {
   "cell_type": "code",
   "execution_count": 4,
   "id": "17eaec81",
   "metadata": {
    "scrolled": true
   },
   "outputs": [
    {
     "data": {
      "text/html": [
       "<div>\n",
       "<style scoped>\n",
       "    .dataframe tbody tr th:only-of-type {\n",
       "        vertical-align: middle;\n",
       "    }\n",
       "\n",
       "    .dataframe tbody tr th {\n",
       "        vertical-align: top;\n",
       "    }\n",
       "\n",
       "    .dataframe thead th {\n",
       "        text-align: right;\n",
       "    }\n",
       "</style>\n",
       "<table border=\"1\" class=\"dataframe\">\n",
       "  <thead>\n",
       "    <tr style=\"text-align: right;\">\n",
       "      <th></th>\n",
       "      <th>country</th>\n",
       "      <th>year</th>\n",
       "      <th>uniqueid</th>\n",
       "      <th>bank_account</th>\n",
       "      <th>location_type</th>\n",
       "      <th>cellphone_access</th>\n",
       "      <th>household_size</th>\n",
       "      <th>age_of_respondent</th>\n",
       "      <th>gender_of_respondent</th>\n",
       "      <th>relationship_with_head</th>\n",
       "      <th>marital_status</th>\n",
       "      <th>education_level</th>\n",
       "      <th>job_type</th>\n",
       "    </tr>\n",
       "  </thead>\n",
       "  <tbody>\n",
       "    <tr>\n",
       "      <th>23519</th>\n",
       "      <td>Uganda</td>\n",
       "      <td>2018</td>\n",
       "      <td>uniqueid_2113</td>\n",
       "      <td>No</td>\n",
       "      <td>Rural</td>\n",
       "      <td>Yes</td>\n",
       "      <td>4</td>\n",
       "      <td>48</td>\n",
       "      <td>Female</td>\n",
       "      <td>Head of Household</td>\n",
       "      <td>Divorced/Seperated</td>\n",
       "      <td>No formal education</td>\n",
       "      <td>Other Income</td>\n",
       "    </tr>\n",
       "    <tr>\n",
       "      <th>23520</th>\n",
       "      <td>Uganda</td>\n",
       "      <td>2018</td>\n",
       "      <td>uniqueid_2114</td>\n",
       "      <td>No</td>\n",
       "      <td>Rural</td>\n",
       "      <td>Yes</td>\n",
       "      <td>2</td>\n",
       "      <td>27</td>\n",
       "      <td>Female</td>\n",
       "      <td>Head of Household</td>\n",
       "      <td>Single/Never Married</td>\n",
       "      <td>Secondary education</td>\n",
       "      <td>Other Income</td>\n",
       "    </tr>\n",
       "    <tr>\n",
       "      <th>23521</th>\n",
       "      <td>Uganda</td>\n",
       "      <td>2018</td>\n",
       "      <td>uniqueid_2115</td>\n",
       "      <td>No</td>\n",
       "      <td>Rural</td>\n",
       "      <td>Yes</td>\n",
       "      <td>5</td>\n",
       "      <td>27</td>\n",
       "      <td>Female</td>\n",
       "      <td>Parent</td>\n",
       "      <td>Widowed</td>\n",
       "      <td>Primary education</td>\n",
       "      <td>Other Income</td>\n",
       "    </tr>\n",
       "    <tr>\n",
       "      <th>23522</th>\n",
       "      <td>Uganda</td>\n",
       "      <td>2018</td>\n",
       "      <td>uniqueid_2116</td>\n",
       "      <td>No</td>\n",
       "      <td>Urban</td>\n",
       "      <td>Yes</td>\n",
       "      <td>7</td>\n",
       "      <td>30</td>\n",
       "      <td>Female</td>\n",
       "      <td>Parent</td>\n",
       "      <td>Divorced/Seperated</td>\n",
       "      <td>Secondary education</td>\n",
       "      <td>Self employed</td>\n",
       "    </tr>\n",
       "    <tr>\n",
       "      <th>23523</th>\n",
       "      <td>Uganda</td>\n",
       "      <td>2018</td>\n",
       "      <td>uniqueid_2117</td>\n",
       "      <td>No</td>\n",
       "      <td>Rural</td>\n",
       "      <td>Yes</td>\n",
       "      <td>10</td>\n",
       "      <td>20</td>\n",
       "      <td>Male</td>\n",
       "      <td>Child</td>\n",
       "      <td>Single/Never Married</td>\n",
       "      <td>Secondary education</td>\n",
       "      <td>No Income</td>\n",
       "    </tr>\n",
       "  </tbody>\n",
       "</table>\n",
       "</div>"
      ],
      "text/plain": [
       "      country  year       uniqueid bank_account location_type  \\\n",
       "23519  Uganda  2018  uniqueid_2113           No         Rural   \n",
       "23520  Uganda  2018  uniqueid_2114           No         Rural   \n",
       "23521  Uganda  2018  uniqueid_2115           No         Rural   \n",
       "23522  Uganda  2018  uniqueid_2116           No         Urban   \n",
       "23523  Uganda  2018  uniqueid_2117           No         Rural   \n",
       "\n",
       "      cellphone_access  household_size  age_of_respondent  \\\n",
       "23519              Yes               4                 48   \n",
       "23520              Yes               2                 27   \n",
       "23521              Yes               5                 27   \n",
       "23522              Yes               7                 30   \n",
       "23523              Yes              10                 20   \n",
       "\n",
       "      gender_of_respondent relationship_with_head        marital_status  \\\n",
       "23519               Female      Head of Household    Divorced/Seperated   \n",
       "23520               Female      Head of Household  Single/Never Married   \n",
       "23521               Female                 Parent               Widowed   \n",
       "23522               Female                 Parent    Divorced/Seperated   \n",
       "23523                 Male                  Child  Single/Never Married   \n",
       "\n",
       "           education_level       job_type  \n",
       "23519  No formal education   Other Income  \n",
       "23520  Secondary education   Other Income  \n",
       "23521    Primary education   Other Income  \n",
       "23522  Secondary education  Self employed  \n",
       "23523  Secondary education      No Income  "
      ]
     },
     "execution_count": 4,
     "metadata": {},
     "output_type": "execute_result"
    }
   ],
   "source": [
    "df.tail()"
   ]
  },
  {
   "cell_type": "code",
   "execution_count": 5,
   "id": "18ed2da2",
   "metadata": {},
   "outputs": [
    {
     "data": {
      "text/html": [
       "<div>\n",
       "<style scoped>\n",
       "    .dataframe tbody tr th:only-of-type {\n",
       "        vertical-align: middle;\n",
       "    }\n",
       "\n",
       "    .dataframe tbody tr th {\n",
       "        vertical-align: top;\n",
       "    }\n",
       "\n",
       "    .dataframe thead th {\n",
       "        text-align: right;\n",
       "    }\n",
       "</style>\n",
       "<table border=\"1\" class=\"dataframe\">\n",
       "  <thead>\n",
       "    <tr style=\"text-align: right;\">\n",
       "      <th></th>\n",
       "      <th>Variable Definitions</th>\n",
       "      <th>Unnamed: 1</th>\n",
       "    </tr>\n",
       "  </thead>\n",
       "  <tbody>\n",
       "    <tr>\n",
       "      <th>0</th>\n",
       "      <td>country</td>\n",
       "      <td>Country interviewee is in.</td>\n",
       "    </tr>\n",
       "    <tr>\n",
       "      <th>1</th>\n",
       "      <td>year</td>\n",
       "      <td>Year survey was done in.</td>\n",
       "    </tr>\n",
       "    <tr>\n",
       "      <th>2</th>\n",
       "      <td>uniqueid</td>\n",
       "      <td>Unique identifier for each interviewee</td>\n",
       "    </tr>\n",
       "    <tr>\n",
       "      <th>3</th>\n",
       "      <td>location_type</td>\n",
       "      <td>Type of location: Rural, Urban</td>\n",
       "    </tr>\n",
       "    <tr>\n",
       "      <th>4</th>\n",
       "      <td>cellphone_access</td>\n",
       "      <td>If interviewee has access to a cellphone: Yes, No</td>\n",
       "    </tr>\n",
       "    <tr>\n",
       "      <th>5</th>\n",
       "      <td>household_size</td>\n",
       "      <td>Number of people living in one house</td>\n",
       "    </tr>\n",
       "    <tr>\n",
       "      <th>6</th>\n",
       "      <td>age_of_respondent</td>\n",
       "      <td>The age of the interviewee</td>\n",
       "    </tr>\n",
       "    <tr>\n",
       "      <th>7</th>\n",
       "      <td>gender_of_respondent</td>\n",
       "      <td>Gender of interviewee: Male, Female</td>\n",
       "    </tr>\n",
       "    <tr>\n",
       "      <th>8</th>\n",
       "      <td>relationship_with_head</td>\n",
       "      <td>The interviewee’s relationship with the head o...</td>\n",
       "    </tr>\n",
       "    <tr>\n",
       "      <th>9</th>\n",
       "      <td>marital_status</td>\n",
       "      <td>The martial status of the interviewee: Married...</td>\n",
       "    </tr>\n",
       "    <tr>\n",
       "      <th>10</th>\n",
       "      <td>education_level</td>\n",
       "      <td>Highest level of education: No formal educatio...</td>\n",
       "    </tr>\n",
       "    <tr>\n",
       "      <th>11</th>\n",
       "      <td>job_type</td>\n",
       "      <td>Type of job interviewee has: Farming and Fishi...</td>\n",
       "    </tr>\n",
       "  </tbody>\n",
       "</table>\n",
       "</div>"
      ],
      "text/plain": [
       "      Variable Definitions                                         Unnamed: 1\n",
       "0                  country                         Country interviewee is in.\n",
       "1                     year                           Year survey was done in.\n",
       "2                 uniqueid             Unique identifier for each interviewee\n",
       "3            location_type                     Type of location: Rural, Urban\n",
       "4         cellphone_access  If interviewee has access to a cellphone: Yes, No\n",
       "5           household_size               Number of people living in one house\n",
       "6        age_of_respondent                         The age of the interviewee\n",
       "7     gender_of_respondent                Gender of interviewee: Male, Female\n",
       "8   relationship_with_head  The interviewee’s relationship with the head o...\n",
       "9           marital_status  The martial status of the interviewee: Married...\n",
       "10         education_level  Highest level of education: No formal educatio...\n",
       "11                job_type  Type of job interviewee has: Farming and Fishi..."
      ]
     },
     "execution_count": 5,
     "metadata": {},
     "output_type": "execute_result"
    }
   ],
   "source": [
    "data_def = pd.read_csv('VariableDefinitions.csv')\n",
    "data_def"
   ]
  },
  {
   "cell_type": "code",
   "execution_count": 6,
   "id": "98ecc243",
   "metadata": {},
   "outputs": [
    {
     "name": "stdout",
     "output_type": "stream",
     "text": [
      "<class 'pandas.core.frame.DataFrame'>\n",
      "RangeIndex: 23524 entries, 0 to 23523\n",
      "Data columns (total 13 columns):\n",
      " #   Column                  Non-Null Count  Dtype \n",
      "---  ------                  --------------  ----- \n",
      " 0   country                 23524 non-null  object\n",
      " 1   year                    23524 non-null  int64 \n",
      " 2   uniqueid                23524 non-null  object\n",
      " 3   bank_account            23524 non-null  object\n",
      " 4   location_type           23524 non-null  object\n",
      " 5   cellphone_access        23524 non-null  object\n",
      " 6   household_size          23524 non-null  int64 \n",
      " 7   age_of_respondent       23524 non-null  int64 \n",
      " 8   gender_of_respondent    23524 non-null  object\n",
      " 9   relationship_with_head  23524 non-null  object\n",
      " 10  marital_status          23524 non-null  object\n",
      " 11  education_level         23524 non-null  object\n",
      " 12  job_type                23524 non-null  object\n",
      "dtypes: int64(3), object(10)\n",
      "memory usage: 2.3+ MB\n"
     ]
    }
   ],
   "source": [
    "df.info()"
   ]
  },
  {
   "cell_type": "code",
   "execution_count": 7,
   "id": "9dac318a",
   "metadata": {
    "scrolled": true
   },
   "outputs": [
    {
     "data": {
      "text/html": [
       "<div>\n",
       "<style scoped>\n",
       "    .dataframe tbody tr th:only-of-type {\n",
       "        vertical-align: middle;\n",
       "    }\n",
       "\n",
       "    .dataframe tbody tr th {\n",
       "        vertical-align: top;\n",
       "    }\n",
       "\n",
       "    .dataframe thead th {\n",
       "        text-align: right;\n",
       "    }\n",
       "</style>\n",
       "<table border=\"1\" class=\"dataframe\">\n",
       "  <thead>\n",
       "    <tr style=\"text-align: right;\">\n",
       "      <th></th>\n",
       "      <th>year</th>\n",
       "      <th>household_size</th>\n",
       "      <th>age_of_respondent</th>\n",
       "    </tr>\n",
       "  </thead>\n",
       "  <tbody>\n",
       "    <tr>\n",
       "      <th>count</th>\n",
       "      <td>23524.000000</td>\n",
       "      <td>23524.000000</td>\n",
       "      <td>23524.000000</td>\n",
       "    </tr>\n",
       "    <tr>\n",
       "      <th>mean</th>\n",
       "      <td>2016.975939</td>\n",
       "      <td>3.797483</td>\n",
       "      <td>38.805220</td>\n",
       "    </tr>\n",
       "    <tr>\n",
       "      <th>std</th>\n",
       "      <td>0.847371</td>\n",
       "      <td>2.227613</td>\n",
       "      <td>16.520569</td>\n",
       "    </tr>\n",
       "    <tr>\n",
       "      <th>min</th>\n",
       "      <td>2016.000000</td>\n",
       "      <td>1.000000</td>\n",
       "      <td>16.000000</td>\n",
       "    </tr>\n",
       "    <tr>\n",
       "      <th>25%</th>\n",
       "      <td>2016.000000</td>\n",
       "      <td>2.000000</td>\n",
       "      <td>26.000000</td>\n",
       "    </tr>\n",
       "    <tr>\n",
       "      <th>50%</th>\n",
       "      <td>2017.000000</td>\n",
       "      <td>3.000000</td>\n",
       "      <td>35.000000</td>\n",
       "    </tr>\n",
       "    <tr>\n",
       "      <th>75%</th>\n",
       "      <td>2018.000000</td>\n",
       "      <td>5.000000</td>\n",
       "      <td>49.000000</td>\n",
       "    </tr>\n",
       "    <tr>\n",
       "      <th>max</th>\n",
       "      <td>2018.000000</td>\n",
       "      <td>21.000000</td>\n",
       "      <td>100.000000</td>\n",
       "    </tr>\n",
       "  </tbody>\n",
       "</table>\n",
       "</div>"
      ],
      "text/plain": [
       "               year  household_size  age_of_respondent\n",
       "count  23524.000000    23524.000000       23524.000000\n",
       "mean    2016.975939        3.797483          38.805220\n",
       "std        0.847371        2.227613          16.520569\n",
       "min     2016.000000        1.000000          16.000000\n",
       "25%     2016.000000        2.000000          26.000000\n",
       "50%     2017.000000        3.000000          35.000000\n",
       "75%     2018.000000        5.000000          49.000000\n",
       "max     2018.000000       21.000000         100.000000"
      ]
     },
     "execution_count": 7,
     "metadata": {},
     "output_type": "execute_result"
    }
   ],
   "source": [
    "df.describe()"
   ]
  },
  {
   "cell_type": "code",
   "execution_count": 8,
   "id": "2e73aa7c",
   "metadata": {},
   "outputs": [
    {
     "name": "stderr",
     "output_type": "stream",
     "text": [
      "C:\\Users\\user\\anaconda3\\lib\\site-packages\\seaborn\\_decorators.py:36: FutureWarning: Pass the following variable as a keyword arg: x. From version 0.12, the only valid positional argument will be `data`, and passing other arguments without an explicit keyword will result in an error or misinterpretation.\n",
      "  warnings.warn(\n"
     ]
    },
    {
     "data": {
      "text/plain": [
       "<AxesSubplot:xlabel='country', ylabel='count'>"
      ]
     },
     "execution_count": 8,
     "metadata": {},
     "output_type": "execute_result"
    },
    {
     "data": {
      "image/png": "[encoded data removed]",
      "text/plain": [
       "<Figure size 432x288 with 1 Axes>"
      ]
     },
     "metadata": {
      "needs_background": "light"
     },
     "output_type": "display_data"
    }
   ],
   "source": [
    "sns.countplot(\"country\", data=df)"
   ]
  },
  {
   "cell_type": "code",
   "execution_count": 9,
   "id": "54d13266",
   "metadata": {
    "scrolled": true
   },
   "outputs": [
    {
     "name": "stderr",
     "output_type": "stream",
     "text": [
      "C:\\Users\\user\\anaconda3\\lib\\site-packages\\seaborn\\_decorators.py:36: FutureWarning: Pass the following variable as a keyword arg: x. From version 0.12, the only valid positional argument will be `data`, and passing other arguments without an explicit keyword will result in an error or misinterpretation.\n",
      "  warnings.warn(\n"
     ]
    },
    {
     "data": {
      "text/plain": [
       "<AxesSubplot:xlabel='year', ylabel='count'>"
      ]
     },
     "execution_count": 9,
     "metadata": {},
     "output_type": "execute_result"
    },
    {
     "data": {
      "image/png": "[encoded data removed]",
      "text/plain": [
       "<Figure size 432x288 with 1 Axes>"
      ]
     },
     "metadata": {
      "needs_background": "light"
     },
     "output_type": "display_data"
    }
   ],
   "source": [
    "sns.countplot(\"year\", data=df)"
   ]
  },
  {
   "cell_type": "code",
   "execution_count": 10,
   "id": "f7b6ad79",
   "metadata": {},
   "outputs": [],
   "source": [
    "df[\"bank_account\"].replace([\"No\", \"Yes\"], [0, 1], inplace = True)"
   ]
  },
  {
   "cell_type": "code",
   "execution_count": 11,
   "id": "1341d4f7",
   "metadata": {},
   "outputs": [
    {
     "name": "stderr",
     "output_type": "stream",
     "text": [
      "C:\\Users\\user\\anaconda3\\lib\\site-packages\\seaborn\\_decorators.py:36: FutureWarning: Pass the following variable as a keyword arg: x. From version 0.12, the only valid positional argument will be `data`, and passing other arguments without an explicit keyword will result in an error or misinterpretation.\n",
      "  warnings.warn(\n"
     ]
    },
    {
     "data": {
      "text/plain": [
       "<AxesSubplot:xlabel='bank_account', ylabel='count'>"
      ]
     },
     "execution_count": 11,
     "metadata": {},
     "output_type": "execute_result"
    },
    {
     "data": {
      "image/png": "[encoded data removed]",
      "text/plain": [
       "<Figure size 432x288 with 1 Axes>"
      ]
     },
     "metadata": {
      "needs_background": "light"
     },
     "output_type": "display_data"
    }
   ],
   "source": [
    "sns.countplot(\"bank_account\", data=df)"
   ]
  },
  {
   "cell_type": "code",
   "execution_count": 12,
   "id": "fb08c42e",
   "metadata": {
    "scrolled": true
   },
   "outputs": [
    {
     "data": {
      "text/html": [
       "<div>\n",
       "<style scoped>\n",
       "    .dataframe tbody tr th:only-of-type {\n",
       "        vertical-align: middle;\n",
       "    }\n",
       "\n",
       "    .dataframe tbody tr th {\n",
       "        vertical-align: top;\n",
       "    }\n",
       "\n",
       "    .dataframe thead th {\n",
       "        text-align: right;\n",
       "    }\n",
       "</style>\n",
       "<table border=\"1\" class=\"dataframe\">\n",
       "  <thead>\n",
       "    <tr style=\"text-align: right;\">\n",
       "      <th></th>\n",
       "      <th>country</th>\n",
       "      <th>year</th>\n",
       "      <th>uniqueid</th>\n",
       "      <th>bank_account</th>\n",
       "      <th>location_type</th>\n",
       "      <th>cellphone_access</th>\n",
       "      <th>household_size</th>\n",
       "      <th>age_of_respondent</th>\n",
       "      <th>gender_of_respondent</th>\n",
       "      <th>relationship_with_head</th>\n",
       "      <th>marital_status</th>\n",
       "      <th>education_level</th>\n",
       "      <th>job_type</th>\n",
       "    </tr>\n",
       "  </thead>\n",
       "  <tbody>\n",
       "    <tr>\n",
       "      <th>0</th>\n",
       "      <td>Kenya</td>\n",
       "      <td>2018</td>\n",
       "      <td>uniqueid_1</td>\n",
       "      <td>1</td>\n",
       "      <td>Rural</td>\n",
       "      <td>Yes</td>\n",
       "      <td>3</td>\n",
       "      <td>24</td>\n",
       "      <td>Female</td>\n",
       "      <td>Spouse</td>\n",
       "      <td>Married/Living together</td>\n",
       "      <td>Secondary education</td>\n",
       "      <td>Self employed</td>\n",
       "    </tr>\n",
       "    <tr>\n",
       "      <th>1</th>\n",
       "      <td>Kenya</td>\n",
       "      <td>2018</td>\n",
       "      <td>uniqueid_2</td>\n",
       "      <td>0</td>\n",
       "      <td>Rural</td>\n",
       "      <td>No</td>\n",
       "      <td>5</td>\n",
       "      <td>70</td>\n",
       "      <td>Female</td>\n",
       "      <td>Head of Household</td>\n",
       "      <td>Widowed</td>\n",
       "      <td>No formal education</td>\n",
       "      <td>Government Dependent</td>\n",
       "    </tr>\n",
       "    <tr>\n",
       "      <th>2</th>\n",
       "      <td>Kenya</td>\n",
       "      <td>2018</td>\n",
       "      <td>uniqueid_3</td>\n",
       "      <td>1</td>\n",
       "      <td>Urban</td>\n",
       "      <td>Yes</td>\n",
       "      <td>5</td>\n",
       "      <td>26</td>\n",
       "      <td>Male</td>\n",
       "      <td>Other relative</td>\n",
       "      <td>Single/Never Married</td>\n",
       "      <td>Vocational/Specialised training</td>\n",
       "      <td>Self employed</td>\n",
       "    </tr>\n",
       "    <tr>\n",
       "      <th>3</th>\n",
       "      <td>Kenya</td>\n",
       "      <td>2018</td>\n",
       "      <td>uniqueid_4</td>\n",
       "      <td>0</td>\n",
       "      <td>Rural</td>\n",
       "      <td>Yes</td>\n",
       "      <td>5</td>\n",
       "      <td>34</td>\n",
       "      <td>Female</td>\n",
       "      <td>Head of Household</td>\n",
       "      <td>Married/Living together</td>\n",
       "      <td>Primary education</td>\n",
       "      <td>Formally employed Private</td>\n",
       "    </tr>\n",
       "    <tr>\n",
       "      <th>4</th>\n",
       "      <td>Kenya</td>\n",
       "      <td>2018</td>\n",
       "      <td>uniqueid_5</td>\n",
       "      <td>0</td>\n",
       "      <td>Urban</td>\n",
       "      <td>No</td>\n",
       "      <td>8</td>\n",
       "      <td>26</td>\n",
       "      <td>Male</td>\n",
       "      <td>Child</td>\n",
       "      <td>Single/Never Married</td>\n",
       "      <td>Primary education</td>\n",
       "      <td>Informally employed</td>\n",
       "    </tr>\n",
       "  </tbody>\n",
       "</table>\n",
       "</div>"
      ],
      "text/plain": [
       "  country  year    uniqueid  bank_account location_type cellphone_access  \\\n",
       "0   Kenya  2018  uniqueid_1             1         Rural              Yes   \n",
       "1   Kenya  2018  uniqueid_2             0         Rural               No   \n",
       "2   Kenya  2018  uniqueid_3             1         Urban              Yes   \n",
       "3   Kenya  2018  uniqueid_4             0         Rural              Yes   \n",
       "4   Kenya  2018  uniqueid_5             0         Urban               No   \n",
       "\n",
       "   household_size  age_of_respondent gender_of_respondent  \\\n",
       "0               3                 24               Female   \n",
       "1               5                 70               Female   \n",
       "2               5                 26                 Male   \n",
       "3               5                 34               Female   \n",
       "4               8                 26                 Male   \n",
       "\n",
       "  relationship_with_head           marital_status  \\\n",
       "0                 Spouse  Married/Living together   \n",
       "1      Head of Household                  Widowed   \n",
       "2         Other relative     Single/Never Married   \n",
       "3      Head of Household  Married/Living together   \n",
       "4                  Child     Single/Never Married   \n",
       "\n",
       "                   education_level                   job_type  \n",
       "0              Secondary education              Self employed  \n",
       "1              No formal education       Government Dependent  \n",
       "2  Vocational/Specialised training              Self employed  \n",
       "3                Primary education  Formally employed Private  \n",
       "4                Primary education        Informally employed  "
      ]
     },
     "execution_count": 12,
     "metadata": {},
     "output_type": "execute_result"
    }
   ],
   "source": [
    "df.head()"
   ]
  },
  {
   "cell_type": "code",
   "execution_count": 13,
   "id": "174e551d",
   "metadata": {},
   "outputs": [
    {
     "name": "stderr",
     "output_type": "stream",
     "text": [
      "C:\\Users\\user\\anaconda3\\lib\\site-packages\\seaborn\\_decorators.py:36: FutureWarning: Pass the following variable as a keyword arg: x. From version 0.12, the only valid positional argument will be `data`, and passing other arguments without an explicit keyword will result in an error or misinterpretation.\n",
      "  warnings.warn(\n"
     ]
    },
    {
     "data": {
      "text/plain": [
       "<AxesSubplot:xlabel='year', ylabel='count'>"
      ]
     },
     "execution_count": 13,
     "metadata": {},
     "output_type": "execute_result"
    },
    {
     "data": {
      "image/png": "[encoded data removed]",
      "text/plain": [
       "<Figure size 432x288 with 1 Axes>"
      ]
     },
     "metadata": {
      "needs_background": "light"
     },
     "output_type": "display_data"
    }
   ],
   "source": [
    "sns.countplot(\"year\", hue = \"bank_account\" ,data = df)"
   ]
  },
  {
   "cell_type": "code",
   "execution_count": 14,
   "id": "d15c477f",
   "metadata": {
    "scrolled": true
   },
   "outputs": [
    {
     "name": "stderr",
     "output_type": "stream",
     "text": [
      "C:\\Users\\user\\anaconda3\\lib\\site-packages\\seaborn\\_decorators.py:36: FutureWarning: Pass the following variable as a keyword arg: x. From version 0.12, the only valid positional argument will be `data`, and passing other arguments without an explicit keyword will result in an error or misinterpretation.\n",
      "  warnings.warn(\n"
     ]
    },
    {
     "data": {
      "text/plain": [
       "Text(0.5, 1.0, 'Country with most and least bank account holders')"
      ]
     },
     "execution_count": 14,
     "metadata": {},
     "output_type": "execute_result"
    },
    {
     "data": {
      "image/png": "[encoded data removed]",
      "text/plain": [
       "<Figure size 432x288 with 1 Axes>"
      ]
     },
     "metadata": {
      "needs_background": "light"
     },
     "output_type": "display_data"
    }
   ],
   "source": [
    "sns.countplot(\"country\", hue = \"bank_account\" ,data = df)\n",
    "plt.title(\"Country with most and least bank account holders\")\n"
   ]
  },
  {
   "cell_type": "code",
   "execution_count": 15,
   "id": "4da033b7",
   "metadata": {},
   "outputs": [
    {
     "name": "stderr",
     "output_type": "stream",
     "text": [
      "C:\\Users\\user\\anaconda3\\lib\\site-packages\\seaborn\\_decorators.py:36: FutureWarning: Pass the following variable as a keyword arg: x. From version 0.12, the only valid positional argument will be `data`, and passing other arguments without an explicit keyword will result in an error or misinterpretation.\n",
      "  warnings.warn(\n"
     ]
    },
    {
     "data": {
      "text/plain": [
       "Text(0.5, 1.0, 'Bank account holders with cellphone access')"
      ]
     },
     "execution_count": 15,
     "metadata": {},
     "output_type": "execute_result"
    },
    {
     "data": {
      "image/png": "[encoded data removed]",
      "text/plain": [
       "<Figure size 432x288 with 1 Axes>"
      ]
     },
     "metadata": {
      "needs_background": "light"
     },
     "output_type": "display_data"
    }
   ],
   "source": [
    "sns.countplot(\"bank_account\", hue = \"cellphone_access\" ,data = df)\n",
    "plt.title(\"Bank account holders with cellphone access\")"
   ]
  },
  {
   "cell_type": "code",
   "execution_count": 16,
   "id": "8441e513",
   "metadata": {},
   "outputs": [
    {
     "name": "stderr",
     "output_type": "stream",
     "text": [
      "C:\\Users\\user\\anaconda3\\lib\\site-packages\\seaborn\\_decorators.py:36: FutureWarning: Pass the following variable as a keyword arg: x. From version 0.12, the only valid positional argument will be `data`, and passing other arguments without an explicit keyword will result in an error or misinterpretation.\n",
      "  warnings.warn(\n"
     ]
    },
    {
     "data": {
      "image/png": "[encoded data removed]",
      "text/plain": [
       "<Figure size 1296x576 with 2 Axes>"
      ]
     },
     "metadata": {
      "needs_background": "light"
     },
     "output_type": "display_data"
    }
   ],
   "source": [
    "fig, ax = plt.subplots(1, 2, figsize = (18, 8))\n",
    "df[\"job_type\"].value_counts().plot.bar(color = \"maroon\", ax = ax[0])\n",
    "ax[0].set_title(\"Number Of Respondents and their job types\")\n",
    "ax[0].set_ylabel(\"Respondents\")\n",
    "sns.countplot(\"bank_account\", hue = \"job_type\", data = df, ax = ax[1])\n",
    "ax[1].set_title(\"Job Type with most bank accounts\")\n",
    "plt.show()"
   ]
  },
  {
   "cell_type": "code",
   "execution_count": 17,
   "id": "092c74ab",
   "metadata": {},
   "outputs": [
    {
     "data": {
      "text/html": [
       "<style type=\"text/css\">\n",
       "#T_380f0_row0_col0, #T_380f0_row0_col1, #T_380f0_row0_col2, #T_380f0_row3_col0, #T_380f0_row4_col1, #T_380f0_row6_col0, #T_380f0_row8_col1, #T_380f0_row15_col2 {\n",
       "  background-color: #fefe66;\n",
       "  color: #000000;\n",
       "}\n",
       "#T_380f0_row1_col0, #T_380f0_row1_col1, #T_380f0_row1_col2, #T_380f0_row4_col0, #T_380f0_row4_col2, #T_380f0_row5_col0, #T_380f0_row7_col0, #T_380f0_row9_col0, #T_380f0_row9_col1, #T_380f0_row9_col2, #T_380f0_row11_col0, #T_380f0_row13_col0, #T_380f0_row13_col1, #T_380f0_row13_col2, #T_380f0_row15_col0, #T_380f0_row17_col0, #T_380f0_row19_col0 {\n",
       "  background-color: #ffff66;\n",
       "  color: #000000;\n",
       "}\n",
       "#T_380f0_row2_col0 {\n",
       "  background-color: #daec66;\n",
       "  color: #000000;\n",
       "}\n",
       "#T_380f0_row2_col1 {\n",
       "  background-color: #c6e266;\n",
       "  color: #000000;\n",
       "}\n",
       "#T_380f0_row2_col2 {\n",
       "  background-color: #cbe566;\n",
       "  color: #000000;\n",
       "}\n",
       "#T_380f0_row3_col1, #T_380f0_row7_col1, #T_380f0_row14_col1 {\n",
       "  background-color: #f7fb66;\n",
       "  color: #000000;\n",
       "}\n",
       "#T_380f0_row3_col2, #T_380f0_row6_col1, #T_380f0_row7_col2, #T_380f0_row11_col1, #T_380f0_row12_col2 {\n",
       "  background-color: #f9fc66;\n",
       "  color: #000000;\n",
       "}\n",
       "#T_380f0_row5_col1, #T_380f0_row8_col0, #T_380f0_row11_col2 {\n",
       "  background-color: #fbfd66;\n",
       "  color: #000000;\n",
       "}\n",
       "#T_380f0_row5_col2, #T_380f0_row12_col1, #T_380f0_row17_col1 {\n",
       "  background-color: #fcfe66;\n",
       "  color: #000000;\n",
       "}\n",
       "#T_380f0_row6_col2 {\n",
       "  background-color: #fafc66;\n",
       "  color: #000000;\n",
       "}\n",
       "#T_380f0_row8_col2, #T_380f0_row15_col1, #T_380f0_row17_col2 {\n",
       "  background-color: #fdfe66;\n",
       "  color: #000000;\n",
       "}\n",
       "#T_380f0_row10_col0 {\n",
       "  background-color: #c1e066;\n",
       "  color: #000000;\n",
       "}\n",
       "#T_380f0_row10_col1, #T_380f0_row18_col1 {\n",
       "  background-color: #cae466;\n",
       "  color: #000000;\n",
       "}\n",
       "#T_380f0_row10_col2 {\n",
       "  background-color: #c8e366;\n",
       "  color: #000000;\n",
       "}\n",
       "#T_380f0_row12_col0 {\n",
       "  background-color: #f1f866;\n",
       "  color: #000000;\n",
       "}\n",
       "#T_380f0_row14_col0 {\n",
       "  background-color: #f4fa66;\n",
       "  color: #000000;\n",
       "}\n",
       "#T_380f0_row14_col2, #T_380f0_row19_col2 {\n",
       "  background-color: #f6fa66;\n",
       "  color: #000000;\n",
       "}\n",
       "#T_380f0_row16_col0 {\n",
       "  background-color: #d9ec66;\n",
       "  color: #000000;\n",
       "}\n",
       "#T_380f0_row16_col1 {\n",
       "  background-color: #ebf566;\n",
       "  color: #000000;\n",
       "}\n",
       "#T_380f0_row16_col2 {\n",
       "  background-color: #e7f366;\n",
       "  color: #000000;\n",
       "}\n",
       "#T_380f0_row18_col0 {\n",
       "  background-color: #afd766;\n",
       "  color: #000000;\n",
       "}\n",
       "#T_380f0_row18_col2 {\n",
       "  background-color: #c3e166;\n",
       "  color: #000000;\n",
       "}\n",
       "#T_380f0_row19_col1 {\n",
       "  background-color: #f3f966;\n",
       "  color: #000000;\n",
       "}\n",
       "#T_380f0_row20_col0, #T_380f0_row20_col1, #T_380f0_row20_col2 {\n",
       "  background-color: #008066;\n",
       "  color: #f1f1f1;\n",
       "}\n",
       "</style>\n",
       "<table id=\"T_380f0_\">\n",
       "  <thead>\n",
       "    <tr>\n",
       "      <th class=\"blank\" >&nbsp;</th>\n",
       "      <th class=\"index_name level0\" >cellphone_access</th>\n",
       "      <th class=\"col_heading level0 col0\" >No</th>\n",
       "      <th class=\"col_heading level0 col1\" >Yes</th>\n",
       "      <th class=\"col_heading level0 col2\" >All</th>\n",
       "    </tr>\n",
       "    <tr>\n",
       "      <th class=\"index_name level0\" >job_type</th>\n",
       "      <th class=\"index_name level1\" >bank_account</th>\n",
       "      <th class=\"blank col0\" >&nbsp;</th>\n",
       "      <th class=\"blank col1\" >&nbsp;</th>\n",
       "      <th class=\"blank col2\" >&nbsp;</th>\n",
       "    </tr>\n",
       "  </thead>\n",
       "  <tbody>\n",
       "    <tr>\n",
       "      <th id=\"T_380f0_level0_row0\" class=\"row_heading level0 row0\" rowspan=\"2\">Dont Know/Refuse to answer</th>\n",
       "      <th id=\"T_380f0_level1_row0\" class=\"row_heading level1 row0\" >0</th>\n",
       "      <td id=\"T_380f0_row0_col0\" class=\"data row0 col0\" >31</td>\n",
       "      <td id=\"T_380f0_row0_col1\" class=\"data row0 col1\" >81</td>\n",
       "      <td id=\"T_380f0_row0_col2\" class=\"data row0 col2\" >112</td>\n",
       "    </tr>\n",
       "    <tr>\n",
       "      <th id=\"T_380f0_level1_row1\" class=\"row_heading level1 row1\" >1</th>\n",
       "      <td id=\"T_380f0_row1_col0\" class=\"data row1 col0\" >0</td>\n",
       "      <td id=\"T_380f0_row1_col1\" class=\"data row1 col1\" >14</td>\n",
       "      <td id=\"T_380f0_row1_col2\" class=\"data row1 col2\" >14</td>\n",
       "    </tr>\n",
       "    <tr>\n",
       "      <th id=\"T_380f0_level0_row2\" class=\"row_heading level0 row2\" rowspan=\"2\">Farming and Fishing</th>\n",
       "      <th id=\"T_380f0_level1_row2\" class=\"row_heading level1 row2\" >0</th>\n",
       "      <td id=\"T_380f0_row2_col0\" class=\"data row2 col0\" >888</td>\n",
       "      <td id=\"T_380f0_row2_col1\" class=\"data row2 col1\" >3918</td>\n",
       "      <td id=\"T_380f0_row2_col2\" class=\"data row2 col2\" >4806</td>\n",
       "    </tr>\n",
       "    <tr>\n",
       "      <th id=\"T_380f0_level1_row3\" class=\"row_heading level1 row3\" >1</th>\n",
       "      <td id=\"T_380f0_row3_col0\" class=\"data row3 col0\" >30</td>\n",
       "      <td id=\"T_380f0_row3_col1\" class=\"data row3 col1\" >605</td>\n",
       "      <td id=\"T_380f0_row3_col2\" class=\"data row3 col2\" >635</td>\n",
       "    </tr>\n",
       "    <tr>\n",
       "      <th id=\"T_380f0_level0_row4\" class=\"row_heading level0 row4\" rowspan=\"2\">Formally employed Government</th>\n",
       "      <th id=\"T_380f0_level1_row4\" class=\"row_heading level1 row4\" >0</th>\n",
       "      <td id=\"T_380f0_row4_col0\" class=\"data row4 col0\" >2</td>\n",
       "      <td id=\"T_380f0_row4_col1\" class=\"data row4 col1\" >85</td>\n",
       "      <td id=\"T_380f0_row4_col2\" class=\"data row4 col2\" >87</td>\n",
       "    </tr>\n",
       "    <tr>\n",
       "      <th id=\"T_380f0_level1_row5\" class=\"row_heading level1 row5\" >1</th>\n",
       "      <td id=\"T_380f0_row5_col0\" class=\"data row5 col0\" >4</td>\n",
       "      <td id=\"T_380f0_row5_col1\" class=\"data row5 col1\" >296</td>\n",
       "      <td id=\"T_380f0_row5_col2\" class=\"data row5 col2\" >300</td>\n",
       "    </tr>\n",
       "    <tr>\n",
       "      <th id=\"T_380f0_level0_row6\" class=\"row_heading level0 row6\" rowspan=\"2\">Formally employed Private</th>\n",
       "      <th id=\"T_380f0_level1_row6\" class=\"row_heading level1 row6\" >0</th>\n",
       "      <td id=\"T_380f0_row6_col0\" class=\"data row6 col0\" >44</td>\n",
       "      <td id=\"T_380f0_row6_col1\" class=\"data row6 col1\" >440</td>\n",
       "      <td id=\"T_380f0_row6_col2\" class=\"data row6 col2\" >484</td>\n",
       "    </tr>\n",
       "    <tr>\n",
       "      <th id=\"T_380f0_level1_row7\" class=\"row_heading level1 row7\" >1</th>\n",
       "      <td id=\"T_380f0_row7_col0\" class=\"data row7 col0\" >3</td>\n",
       "      <td id=\"T_380f0_row7_col1\" class=\"data row7 col1\" >568</td>\n",
       "      <td id=\"T_380f0_row7_col2\" class=\"data row7 col2\" >571</td>\n",
       "    </tr>\n",
       "    <tr>\n",
       "      <th id=\"T_380f0_level0_row8\" class=\"row_heading level0 row8\" rowspan=\"2\">Government Dependent</th>\n",
       "      <th id=\"T_380f0_level1_row8\" class=\"row_heading level1 row8\" >0</th>\n",
       "      <td id=\"T_380f0_row8_col0\" class=\"data row8 col0\" >110</td>\n",
       "      <td id=\"T_380f0_row8_col1\" class=\"data row8 col1\" >87</td>\n",
       "      <td id=\"T_380f0_row8_col2\" class=\"data row8 col2\" >197</td>\n",
       "    </tr>\n",
       "    <tr>\n",
       "      <th id=\"T_380f0_level1_row9\" class=\"row_heading level1 row9\" >1</th>\n",
       "      <td id=\"T_380f0_row9_col0\" class=\"data row9 col0\" >15</td>\n",
       "      <td id=\"T_380f0_row9_col1\" class=\"data row9 col1\" >35</td>\n",
       "      <td id=\"T_380f0_row9_col2\" class=\"data row9 col2\" >50</td>\n",
       "    </tr>\n",
       "    <tr>\n",
       "      <th id=\"T_380f0_level0_row10\" class=\"row_heading level0 row10\" rowspan=\"2\">Informally employed</th>\n",
       "      <th id=\"T_380f0_level1_row10\" class=\"row_heading level1 row10\" >0</th>\n",
       "      <td id=\"T_380f0_row10_col0\" class=\"data row10 col0\" >1471</td>\n",
       "      <td id=\"T_380f0_row10_col1\" class=\"data row10 col1\" >3681</td>\n",
       "      <td id=\"T_380f0_row10_col2\" class=\"data row10 col2\" >5152</td>\n",
       "    </tr>\n",
       "    <tr>\n",
       "      <th id=\"T_380f0_level1_row11\" class=\"row_heading level1 row11\" >1</th>\n",
       "      <td id=\"T_380f0_row11_col0\" class=\"data row11 col0\" >10</td>\n",
       "      <td id=\"T_380f0_row11_col1\" class=\"data row11 col1\" >435</td>\n",
       "      <td id=\"T_380f0_row11_col2\" class=\"data row11 col2\" >445</td>\n",
       "    </tr>\n",
       "    <tr>\n",
       "      <th id=\"T_380f0_level0_row12\" class=\"row_heading level0 row12\" rowspan=\"2\">No Income</th>\n",
       "      <th id=\"T_380f0_level1_row12\" class=\"row_heading level1 row12\" >0</th>\n",
       "      <td id=\"T_380f0_row12_col0\" class=\"data row12 col0\" >332</td>\n",
       "      <td id=\"T_380f0_row12_col1\" class=\"data row12 col1\" >282</td>\n",
       "      <td id=\"T_380f0_row12_col2\" class=\"data row12 col2\" >614</td>\n",
       "    </tr>\n",
       "    <tr>\n",
       "      <th id=\"T_380f0_level1_row13\" class=\"row_heading level1 row13\" >1</th>\n",
       "      <td id=\"T_380f0_row13_col0\" class=\"data row13 col0\" >2</td>\n",
       "      <td id=\"T_380f0_row13_col1\" class=\"data row13 col1\" >11</td>\n",
       "      <td id=\"T_380f0_row13_col2\" class=\"data row13 col2\" >13</td>\n",
       "    </tr>\n",
       "    <tr>\n",
       "      <th id=\"T_380f0_level0_row14\" class=\"row_heading level0 row14\" rowspan=\"2\">Other Income</th>\n",
       "      <th id=\"T_380f0_level1_row14\" class=\"row_heading level1 row14\" >0</th>\n",
       "      <td id=\"T_380f0_row14_col0\" class=\"data row14 col0\" >283</td>\n",
       "      <td id=\"T_380f0_row14_col1\" class=\"data row14 col1\" >601</td>\n",
       "      <td id=\"T_380f0_row14_col2\" class=\"data row14 col2\" >884</td>\n",
       "    </tr>\n",
       "    <tr>\n",
       "      <th id=\"T_380f0_level1_row15\" class=\"row_heading level1 row15\" >1</th>\n",
       "      <td id=\"T_380f0_row15_col0\" class=\"data row15 col0\" >10</td>\n",
       "      <td id=\"T_380f0_row15_col1\" class=\"data row15 col1\" >186</td>\n",
       "      <td id=\"T_380f0_row15_col2\" class=\"data row15 col2\" >196</td>\n",
       "    </tr>\n",
       "    <tr>\n",
       "      <th id=\"T_380f0_level0_row16\" class=\"row_heading level0 row16\" rowspan=\"2\">Remittance Dependent</th>\n",
       "      <th id=\"T_380f0_level1_row16\" class=\"row_heading level1 row16\" >0</th>\n",
       "      <td id=\"T_380f0_row16_col0\" class=\"data row16 col0\" >904</td>\n",
       "      <td id=\"T_380f0_row16_col1\" class=\"data row16 col1\" >1383</td>\n",
       "      <td id=\"T_380f0_row16_col2\" class=\"data row16 col2\" >2287</td>\n",
       "    </tr>\n",
       "    <tr>\n",
       "      <th id=\"T_380f0_level1_row17\" class=\"row_heading level1 row17\" >1</th>\n",
       "      <td id=\"T_380f0_row17_col0\" class=\"data row17 col0\" >13</td>\n",
       "      <td id=\"T_380f0_row17_col1\" class=\"data row17 col1\" >227</td>\n",
       "      <td id=\"T_380f0_row17_col2\" class=\"data row17 col2\" >240</td>\n",
       "    </tr>\n",
       "    <tr>\n",
       "      <th id=\"T_380f0_level0_row18\" class=\"row_heading level0 row18\" rowspan=\"2\">Self employed</th>\n",
       "      <th id=\"T_380f0_level1_row18\" class=\"row_heading level1 row18\" >0</th>\n",
       "      <td id=\"T_380f0_row18_col0\" class=\"data row18 col0\" >1901</td>\n",
       "      <td id=\"T_380f0_row18_col1\" class=\"data row18 col1\" >3688</td>\n",
       "      <td id=\"T_380f0_row18_col2\" class=\"data row18 col2\" >5589</td>\n",
       "    </tr>\n",
       "    <tr>\n",
       "      <th id=\"T_380f0_level1_row19\" class=\"row_heading level1 row19\" >1</th>\n",
       "      <td id=\"T_380f0_row19_col0\" class=\"data row19 col0\" >17</td>\n",
       "      <td id=\"T_380f0_row19_col1\" class=\"data row19 col1\" >831</td>\n",
       "      <td id=\"T_380f0_row19_col2\" class=\"data row19 col2\" >848</td>\n",
       "    </tr>\n",
       "    <tr>\n",
       "      <th id=\"T_380f0_level0_row20\" class=\"row_heading level0 row20\" >All</th>\n",
       "      <th id=\"T_380f0_level1_row20\" class=\"row_heading level1 row20\" ></th>\n",
       "      <td id=\"T_380f0_row20_col0\" class=\"data row20 col0\" >6070</td>\n",
       "      <td id=\"T_380f0_row20_col1\" class=\"data row20 col1\" >17454</td>\n",
       "      <td id=\"T_380f0_row20_col2\" class=\"data row20 col2\" >23524</td>\n",
       "    </tr>\n",
       "  </tbody>\n",
       "</table>\n"
      ],
      "text/plain": [
       "<pandas.io.formats.style.Styler at 0x2400e5d3400>"
      ]
     },
     "execution_count": 17,
     "metadata": {},
     "output_type": "execute_result"
    }
   ],
   "source": [
    "pd.crosstab([df[\"job_type\"], df[\"bank_account\"]], df[\"cellphone_access\"], \n",
    "            margins = True).style.background_gradient(cmap = \"summer_r\")"
   ]
  },
  {
   "cell_type": "code",
   "execution_count": 18,
   "id": "79c50b27",
   "metadata": {},
   "outputs": [
    {
     "name": "stderr",
     "output_type": "stream",
     "text": [
      "C:\\Users\\user\\anaconda3\\lib\\site-packages\\seaborn\\_decorators.py:36: FutureWarning: Pass the following variable as a keyword arg: x. From version 0.12, the only valid positional argument will be `data`, and passing other arguments without an explicit keyword will result in an error or misinterpretation.\n",
      "  warnings.warn(\n",
      "C:\\Users\\user\\anaconda3\\lib\\site-packages\\seaborn\\_decorators.py:36: FutureWarning: Pass the following variable as a keyword arg: x. From version 0.12, the only valid positional argument will be `data`, and passing other arguments without an explicit keyword will result in an error or misinterpretation.\n",
      "  warnings.warn(\n"
     ]
    },
    {
     "data": {
      "image/png": "[encoded data removed]",
      "text/plain": [
       "<Figure size 1296x576 with 3 Axes>"
      ]
     },
     "metadata": {
      "needs_background": "light"
     },
     "output_type": "display_data"
    }
   ],
   "source": [
    "fig, ax = plt.subplots(1, 3, figsize = (18, 8))\n",
    "df[\"country\"].value_counts().plot.bar(color = \"purple\", ax = ax[0])\n",
    "ax[0].set_title(\"Number Of Respondents By Country\")\n",
    "ax[0].set_ylabel(\"Respondents\")\n",
    "sns.countplot(\"bank_account\", hue = \"location_type\", data = df, ax = ax[1])\n",
    "ax[1].set_title(\"Bank account: Rural Vs Urban\")\n",
    "sns.countplot(\"bank_account\", hue = \"cellphone_access\", data = df, ax = ax[2])\n",
    "ax[2].set_title(\"Number of respondents with Cellphone access\")\n",
    "plt.show()"
   ]
  },
  {
   "cell_type": "code",
   "execution_count": 19,
   "id": "c1e8ef0b",
   "metadata": {},
   "outputs": [
    {
     "data": {
      "text/html": [
       "<style type=\"text/css\">\n",
       "#T_50cdc_row0_col0 {\n",
       "  background-color: #cce666;\n",
       "  color: #000000;\n",
       "}\n",
       "#T_50cdc_row0_col1 {\n",
       "  background-color: #d5ea66;\n",
       "  color: #000000;\n",
       "}\n",
       "#T_50cdc_row0_col2 {\n",
       "  background-color: #d0e866;\n",
       "  color: #000000;\n",
       "}\n",
       "#T_50cdc_row1_col0, #T_50cdc_row3_col0, #T_50cdc_row3_col2 {\n",
       "  background-color: #f6fa66;\n",
       "  color: #000000;\n",
       "}\n",
       "#T_50cdc_row1_col1 {\n",
       "  background-color: #e9f466;\n",
       "  color: #000000;\n",
       "}\n",
       "#T_50cdc_row1_col2 {\n",
       "  background-color: #f1f866;\n",
       "  color: #000000;\n",
       "}\n",
       "#T_50cdc_row2_col0 {\n",
       "  background-color: #86c266;\n",
       "  color: #000000;\n",
       "}\n",
       "#T_50cdc_row2_col1 {\n",
       "  background-color: #eaf466;\n",
       "  color: #000000;\n",
       "}\n",
       "#T_50cdc_row2_col2 {\n",
       "  background-color: #add666;\n",
       "  color: #000000;\n",
       "}\n",
       "#T_50cdc_row3_col1 {\n",
       "  background-color: #f8fc66;\n",
       "  color: #000000;\n",
       "}\n",
       "#T_50cdc_row4_col0, #T_50cdc_row6_col0 {\n",
       "  background-color: #e7f366;\n",
       "  color: #000000;\n",
       "}\n",
       "#T_50cdc_row4_col1 {\n",
       "  background-color: #81c066;\n",
       "  color: #000000;\n",
       "}\n",
       "#T_50cdc_row4_col2 {\n",
       "  background-color: #c0e066;\n",
       "  color: #000000;\n",
       "}\n",
       "#T_50cdc_row5_col0 {\n",
       "  background-color: #fafc66;\n",
       "  color: #000000;\n",
       "}\n",
       "#T_50cdc_row5_col1 {\n",
       "  background-color: #fcfe66;\n",
       "  color: #000000;\n",
       "}\n",
       "#T_50cdc_row5_col2 {\n",
       "  background-color: #fbfd66;\n",
       "  color: #000000;\n",
       "}\n",
       "#T_50cdc_row6_col1 {\n",
       "  background-color: #f5fa66;\n",
       "  color: #000000;\n",
       "}\n",
       "#T_50cdc_row6_col2 {\n",
       "  background-color: #ecf666;\n",
       "  color: #000000;\n",
       "}\n",
       "#T_50cdc_row7_col0, #T_50cdc_row7_col1, #T_50cdc_row7_col2 {\n",
       "  background-color: #ffff66;\n",
       "  color: #000000;\n",
       "}\n",
       "#T_50cdc_row8_col0, #T_50cdc_row8_col1, #T_50cdc_row8_col2 {\n",
       "  background-color: #008066;\n",
       "  color: #f1f1f1;\n",
       "}\n",
       "</style>\n",
       "<table id=\"T_50cdc_\">\n",
       "  <thead>\n",
       "    <tr>\n",
       "      <th class=\"blank\" >&nbsp;</th>\n",
       "      <th class=\"index_name level0\" >location_type</th>\n",
       "      <th class=\"col_heading level0 col0\" >Rural</th>\n",
       "      <th class=\"col_heading level0 col1\" >Urban</th>\n",
       "      <th class=\"col_heading level0 col2\" >All</th>\n",
       "    </tr>\n",
       "    <tr>\n",
       "      <th class=\"index_name level0\" >country</th>\n",
       "      <th class=\"index_name level1\" >bank_account</th>\n",
       "      <th class=\"blank col0\" >&nbsp;</th>\n",
       "      <th class=\"blank col1\" >&nbsp;</th>\n",
       "      <th class=\"blank col2\" >&nbsp;</th>\n",
       "    </tr>\n",
       "  </thead>\n",
       "  <tbody>\n",
       "    <tr>\n",
       "      <th id=\"T_50cdc_level0_row0\" class=\"row_heading level0 row0\" rowspan=\"2\">Kenya</th>\n",
       "      <th id=\"T_50cdc_level1_row0\" class=\"row_heading level1 row0\" >0</th>\n",
       "      <td id=\"T_50cdc_row0_col0\" class=\"data row0 col0\" >2929</td>\n",
       "      <td id=\"T_50cdc_row0_col1\" class=\"data row0 col1\" >1618</td>\n",
       "      <td id=\"T_50cdc_row0_col2\" class=\"data row0 col2\" >4547</td>\n",
       "    </tr>\n",
       "    <tr>\n",
       "      <th id=\"T_50cdc_level1_row1\" class=\"row_heading level1 row1\" >1</th>\n",
       "      <td id=\"T_50cdc_row1_col0\" class=\"data row1 col0\" >614</td>\n",
       "      <td id=\"T_50cdc_row1_col1\" class=\"data row1 col1\" >907</td>\n",
       "      <td id=\"T_50cdc_row1_col2\" class=\"data row1 col2\" >1521</td>\n",
       "    </tr>\n",
       "    <tr>\n",
       "      <th id=\"T_50cdc_level0_row2\" class=\"row_heading level0 row2\" rowspan=\"2\">Rwanda</th>\n",
       "      <th id=\"T_50cdc_level1_row2\" class=\"row_heading level1 row2\" >0</th>\n",
       "      <td id=\"T_50cdc_row2_col0\" class=\"data row2 col0\" >6865</td>\n",
       "      <td id=\"T_50cdc_row2_col1\" class=\"data row2 col1\" >867</td>\n",
       "      <td id=\"T_50cdc_row2_col2\" class=\"data row2 col2\" >7732</td>\n",
       "    </tr>\n",
       "    <tr>\n",
       "      <th id=\"T_50cdc_level1_row3\" class=\"row_heading level1 row3\" >1</th>\n",
       "      <td id=\"T_50cdc_row3_col0\" class=\"data row3 col0\" >618</td>\n",
       "      <td id=\"T_50cdc_row3_col1\" class=\"data row3 col1\" >385</td>\n",
       "      <td id=\"T_50cdc_row3_col2\" class=\"data row3 col2\" >1003</td>\n",
       "    </tr>\n",
       "    <tr>\n",
       "      <th id=\"T_50cdc_level0_row4\" class=\"row_heading level0 row4\" rowspan=\"2\">Tanzania</th>\n",
       "      <th id=\"T_50cdc_level1_row4\" class=\"row_heading level1 row4\" >0</th>\n",
       "      <td id=\"T_50cdc_row4_col0\" class=\"data row4 col0\" >1434</td>\n",
       "      <td id=\"T_50cdc_row4_col1\" class=\"data row4 col1\" >4579</td>\n",
       "      <td id=\"T_50cdc_row4_col2\" class=\"data row4 col2\" >6013</td>\n",
       "    </tr>\n",
       "    <tr>\n",
       "      <th id=\"T_50cdc_level1_row5\" class=\"row_heading level1 row5\" >1</th>\n",
       "      <td id=\"T_50cdc_row5_col0\" class=\"data row5 col0\" >375</td>\n",
       "      <td id=\"T_50cdc_row5_col1\" class=\"data row5 col1\" >232</td>\n",
       "      <td id=\"T_50cdc_row5_col2\" class=\"data row5 col2\" >607</td>\n",
       "    </tr>\n",
       "    <tr>\n",
       "      <th id=\"T_50cdc_level0_row6\" class=\"row_heading level0 row6\" rowspan=\"2\">Uganda</th>\n",
       "      <th id=\"T_50cdc_level1_row6\" class=\"row_heading level1 row6\" >0</th>\n",
       "      <td id=\"T_50cdc_row6_col0\" class=\"data row6 col0\" >1444</td>\n",
       "      <td id=\"T_50cdc_row6_col1\" class=\"data row6 col1\" >476</td>\n",
       "      <td id=\"T_50cdc_row6_col2\" class=\"data row6 col2\" >1920</td>\n",
       "    </tr>\n",
       "    <tr>\n",
       "      <th id=\"T_50cdc_level1_row7\" class=\"row_heading level1 row7\" >1</th>\n",
       "      <td id=\"T_50cdc_row7_col0\" class=\"data row7 col0\" >64</td>\n",
       "      <td id=\"T_50cdc_row7_col1\" class=\"data row7 col1\" >117</td>\n",
       "      <td id=\"T_50cdc_row7_col2\" class=\"data row7 col2\" >181</td>\n",
       "    </tr>\n",
       "    <tr>\n",
       "      <th id=\"T_50cdc_level0_row8\" class=\"row_heading level0 row8\" >All</th>\n",
       "      <th id=\"T_50cdc_level1_row8\" class=\"row_heading level1 row8\" ></th>\n",
       "      <td id=\"T_50cdc_row8_col0\" class=\"data row8 col0\" >14343</td>\n",
       "      <td id=\"T_50cdc_row8_col1\" class=\"data row8 col1\" >9181</td>\n",
       "      <td id=\"T_50cdc_row8_col2\" class=\"data row8 col2\" >23524</td>\n",
       "    </tr>\n",
       "  </tbody>\n",
       "</table>\n"
      ],
      "text/plain": [
       "<pandas.io.formats.style.Styler at 0x2400e936dc0>"
      ]
     },
     "execution_count": 19,
     "metadata": {},
     "output_type": "execute_result"
    }
   ],
   "source": [
    "pd.crosstab([df[\"country\"], df[\"bank_account\"]], df[\"location_type\"], \n",
    "            margins = True).style.background_gradient(cmap = \"summer_r\")"
   ]
  },
  {
   "cell_type": "code",
   "execution_count": 20,
   "id": "de6a5a3f",
   "metadata": {},
   "outputs": [
    {
     "name": "stderr",
     "output_type": "stream",
     "text": [
      "C:\\Users\\user\\anaconda3\\lib\\site-packages\\seaborn\\_decorators.py:36: FutureWarning: Pass the following variable as a keyword arg: x. From version 0.12, the only valid positional argument will be `data`, and passing other arguments without an explicit keyword will result in an error or misinterpretation.\n",
      "  warnings.warn(\n"
     ]
    },
    {
     "data": {
      "image/png": "[encoded data removed]",
      "text/plain": [
       "<Figure size 1296x576 with 2 Axes>"
      ]
     },
     "metadata": {
      "needs_background": "light"
     },
     "output_type": "display_data"
    }
   ],
   "source": [
    "fig, ax = plt.subplots(1, 2, figsize = (18, 8))\n",
    "df[\"gender_of_respondent\"].value_counts().plot.bar(color = \"skyblue\", ax = ax[0])\n",
    "ax[0].set_title(\"Number Of Respondents by Gender\")\n",
    "ax[0].set_ylabel(\"Size\")\n",
    "sns.countplot(\"gender_of_respondent\", hue = \"bank_account\", data = df, ax = ax[1])\n",
    "ax[1].set_title(\"Gender with or without bank account\")\n",
    "plt.show()"
   ]
  },
  {
   "cell_type": "code",
   "execution_count": 21,
   "id": "f1a00f96",
   "metadata": {
    "scrolled": false
   },
   "outputs": [
    {
     "data": {
      "image/png": "[encoded data removed]",
      "text/plain": [
       "<Figure size 432x288 with 1 Axes>"
      ]
     },
     "metadata": {
      "needs_background": "light"
     },
     "output_type": "display_data"
    }
   ],
   "source": [
    "sns.barplot(x = \"year\", y = \"age_of_respondent\", hue = \"bank_account\", data = df)\n",
    "plt.show()"
   ]
  },
  {
   "cell_type": "code",
   "execution_count": 22,
   "id": "d5fd6490",
   "metadata": {},
   "outputs": [
    {
     "name": "stderr",
     "output_type": "stream",
     "text": [
      "C:\\Users\\user\\anaconda3\\lib\\site-packages\\seaborn\\_decorators.py:36: FutureWarning: Pass the following variable as a keyword arg: x. From version 0.12, the only valid positional argument will be `data`, and passing other arguments without an explicit keyword will result in an error or misinterpretation.\n",
      "  warnings.warn(\n"
     ]
    },
    {
     "data": {
      "image/png": "[encoded data removed]",
      "text/plain": [
       "<Figure size 1296x576 with 2 Axes>"
      ]
     },
     "metadata": {
      "needs_background": "light"
     },
     "output_type": "display_data"
    }
   ],
   "source": [
    "fig, ax = plt.subplots(1, 2, figsize = (18, 8))\n",
    "df[\"marital_status\"].value_counts().plot.bar(color = \"maroon\", ax = ax[0])\n",
    "ax[0].set_title(\"Number Of Respondents that are married/not married\")\n",
    "ax[0].set_ylabel(\"Respondents\")\n",
    "sns.countplot(\"marital_status\", hue = \"bank_account\", data = df, ax = ax[1])\n",
    "ax[1].set_title(\"marital status with bank account\")\n",
    "plt.show()"
   ]
  },
  {
   "cell_type": "code",
   "execution_count": 23,
   "id": "3d1c45c8",
   "metadata": {},
   "outputs": [
    {
     "name": "stderr",
     "output_type": "stream",
     "text": [
      "C:\\Users\\user\\anaconda3\\lib\\site-packages\\seaborn\\_decorators.py:36: FutureWarning: Pass the following variable as a keyword arg: x. From version 0.12, the only valid positional argument will be `data`, and passing other arguments without an explicit keyword will result in an error or misinterpretation.\n",
      "  warnings.warn(\n"
     ]
    },
    {
     "data": {
      "image/png": "[encoded data removed]",
      "text/plain": [
       "<Figure size 1296x576 with 2 Axes>"
      ]
     },
     "metadata": {
      "needs_background": "light"
     },
     "output_type": "display_data"
    }
   ],
   "source": [
    "fig, ax = plt.subplots(1, 2, figsize = (18, 8))\n",
    "df[\"education_level\"].value_counts().plot.bar(color = \"skyblue\", ax = ax[0])\n",
    "ax[0].set_title(\"Number Of Respondents by Education level\")\n",
    "ax[0].set_ylabel(\"Size\")\n",
    "sns.countplot(\"bank_account\", hue = \"education_level\", data = df, ax = ax[1])\n",
    "ax[1].set_title(\"Education Level: with or without bank account\")\n",
    "plt.show()"
   ]
  },
  {
   "cell_type": "code",
   "execution_count": 24,
   "id": "a9c1871a",
   "metadata": {
    "scrolled": true
   },
   "outputs": [
    {
     "name": "stderr",
     "output_type": "stream",
     "text": [
      "C:\\Users\\user\\anaconda3\\lib\\site-packages\\seaborn\\_decorators.py:36: FutureWarning: Pass the following variable as a keyword arg: x. From version 0.12, the only valid positional argument will be `data`, and passing other arguments without an explicit keyword will result in an error or misinterpretation.\n",
      "  warnings.warn(\n"
     ]
    },
    {
     "data": {
      "image/png": "[encoded data removed]",
      "text/plain": [
       "<Figure size 1296x576 with 2 Axes>"
      ]
     },
     "metadata": {
      "needs_background": "light"
     },
     "output_type": "display_data"
    }
   ],
   "source": [
    "fig, ax = plt.subplots(1, 2, figsize = (18, 8))\n",
    "df[\"household_size\"].value_counts().plot.bar(color = \"maroon\", ax = ax[0])\n",
    "ax[0].set_title(\"Number Of Respondents per household\")\n",
    "ax[0].set_ylabel(\"Respondents\")\n",
    "sns.countplot(\"household_size\", hue = \"bank_account\", data = df, ax = ax[1])\n",
    "ax[1].set_title(\"household with bank account\")\n",
    "plt.show()"
   ]
  },
  {
   "cell_type": "code",
   "execution_count": 25,
   "id": "fe0089ce",
   "metadata": {},
   "outputs": [
    {
     "data": {
      "text/html": [
       "<style type=\"text/css\">\n",
       "#T_205c8_row0_col0, #T_205c8_row2_col5 {\n",
       "  background-color: #cde666;\n",
       "  color: #000000;\n",
       "}\n",
       "#T_205c8_row0_col1 {\n",
       "  background-color: #9fcf66;\n",
       "  color: #000000;\n",
       "}\n",
       "#T_205c8_row0_col2, #T_205c8_row1_col0, #T_205c8_row10_col3, #T_205c8_row12_col5 {\n",
       "  background-color: #f2f866;\n",
       "  color: #000000;\n",
       "}\n",
       "#T_205c8_row0_col3 {\n",
       "  background-color: #e9f466;\n",
       "  color: #000000;\n",
       "}\n",
       "#T_205c8_row0_col4 {\n",
       "  background-color: #b3d966;\n",
       "  color: #000000;\n",
       "}\n",
       "#T_205c8_row0_col5, #T_205c8_row6_col4, #T_205c8_row8_col5 {\n",
       "  background-color: #e5f266;\n",
       "  color: #000000;\n",
       "}\n",
       "#T_205c8_row1_col1, #T_205c8_row3_col1, #T_205c8_row4_col1, #T_205c8_row4_col3, #T_205c8_row6_col1, #T_205c8_row6_col5, #T_205c8_row14_col1 {\n",
       "  background-color: #dfef66;\n",
       "  color: #000000;\n",
       "}\n",
       "#T_205c8_row1_col2, #T_205c8_row5_col0, #T_205c8_row7_col0, #T_205c8_row7_col4, #T_205c8_row11_col5, #T_205c8_row13_col2, #T_205c8_row14_col0, #T_205c8_row16_col3, #T_205c8_row16_col5 {\n",
       "  background-color: #fcfe66;\n",
       "  color: #000000;\n",
       "}\n",
       "#T_205c8_row1_col3, #T_205c8_row7_col2, #T_205c8_row9_col2 {\n",
       "  background-color: #f7fb66;\n",
       "  color: #000000;\n",
       "}\n",
       "#T_205c8_row1_col4, #T_205c8_row1_col5, #T_205c8_row3_col5, #T_205c8_row5_col5, #T_205c8_row12_col4 {\n",
       "  background-color: #f9fc66;\n",
       "  color: #000000;\n",
       "}\n",
       "#T_205c8_row2_col0, #T_205c8_row4_col4 {\n",
       "  background-color: #d6eb66;\n",
       "  color: #000000;\n",
       "}\n",
       "#T_205c8_row2_col1, #T_205c8_row5_col1, #T_205c8_row7_col1, #T_205c8_row8_col1, #T_205c8_row9_col1, #T_205c8_row10_col1, #T_205c8_row11_col0, #T_205c8_row11_col1, #T_205c8_row11_col4, #T_205c8_row12_col1, #T_205c8_row13_col0, #T_205c8_row13_col1, #T_205c8_row13_col3, #T_205c8_row13_col4, #T_205c8_row15_col0, #T_205c8_row15_col1, #T_205c8_row15_col3, #T_205c8_row15_col4, #T_205c8_row15_col5, #T_205c8_row16_col1, #T_205c8_row16_col4, #T_205c8_row17_col0, #T_205c8_row17_col1, #T_205c8_row17_col2, #T_205c8_row17_col3, #T_205c8_row17_col4, #T_205c8_row17_col5, #T_205c8_row18_col0, #T_205c8_row18_col1, #T_205c8_row18_col4, #T_205c8_row19_col0, #T_205c8_row19_col1, #T_205c8_row19_col2, #T_205c8_row19_col3, #T_205c8_row19_col4, #T_205c8_row19_col5, #T_205c8_row20_col0, #T_205c8_row20_col1, #T_205c8_row20_col2, #T_205c8_row20_col3, #T_205c8_row20_col4, #T_205c8_row20_col5, #T_205c8_row21_col0, #T_205c8_row21_col1, #T_205c8_row21_col2, #T_205c8_row21_col3, #T_205c8_row21_col4, #T_205c8_row21_col5, #T_205c8_row22_col0, #T_205c8_row22_col1, #T_205c8_row22_col2, #T_205c8_row22_col3, #T_205c8_row22_col4, #T_205c8_row22_col5, #T_205c8_row23_col0, #T_205c8_row23_col1, #T_205c8_row23_col2, #T_205c8_row23_col3, #T_205c8_row23_col4, #T_205c8_row23_col5, #T_205c8_row24_col0, #T_205c8_row24_col1, #T_205c8_row24_col2, #T_205c8_row24_col3, #T_205c8_row24_col4, #T_205c8_row24_col5, #T_205c8_row25_col0, #T_205c8_row25_col1, #T_205c8_row25_col2, #T_205c8_row25_col3, #T_205c8_row25_col4, #T_205c8_row25_col5, #T_205c8_row26_col0, #T_205c8_row26_col1, #T_205c8_row26_col2, #T_205c8_row26_col3, #T_205c8_row26_col4, #T_205c8_row26_col5, #T_205c8_row27_col0, #T_205c8_row27_col1, #T_205c8_row27_col2, #T_205c8_row27_col3, #T_205c8_row27_col4, #T_205c8_row27_col5, #T_205c8_row28_col0, #T_205c8_row28_col1, #T_205c8_row28_col2, #T_205c8_row28_col3, #T_205c8_row28_col4, #T_205c8_row28_col5, #T_205c8_row29_col0, #T_205c8_row29_col1, #T_205c8_row29_col2, #T_205c8_row29_col3, #T_205c8_row29_col4, #T_205c8_row29_col5, #T_205c8_row30_col0, #T_205c8_row30_col1, #T_205c8_row30_col2, #T_205c8_row30_col3, #T_205c8_row30_col4, #T_205c8_row30_col5, #T_205c8_row31_col0, #T_205c8_row31_col1, #T_205c8_row31_col2, #T_205c8_row31_col3, #T_205c8_row31_col4, #T_205c8_row31_col5, #T_205c8_row32_col0, #T_205c8_row32_col1, #T_205c8_row32_col2, #T_205c8_row32_col3, #T_205c8_row32_col4, #T_205c8_row32_col5, #T_205c8_row33_col0, #T_205c8_row33_col1, #T_205c8_row33_col2, #T_205c8_row33_col3, #T_205c8_row33_col4, #T_205c8_row33_col5, #T_205c8_row34_col0, #T_205c8_row34_col1, #T_205c8_row34_col2, #T_205c8_row34_col3, #T_205c8_row34_col4, #T_205c8_row34_col5 {\n",
       "  background-color: #ffff66;\n",
       "  color: #000000;\n",
       "}\n",
       "#T_205c8_row2_col2 {\n",
       "  background-color: #ebf566;\n",
       "  color: #000000;\n",
       "}\n",
       "#T_205c8_row2_col3 {\n",
       "  background-color: #a3d166;\n",
       "  color: #000000;\n",
       "}\n",
       "#T_205c8_row2_col4 {\n",
       "  background-color: #cce666;\n",
       "  color: #000000;\n",
       "}\n",
       "#T_205c8_row3_col0, #T_205c8_row5_col3, #T_205c8_row7_col5, #T_205c8_row11_col2, #T_205c8_row12_col0, #T_205c8_row14_col3 {\n",
       "  background-color: #fafc66;\n",
       "  color: #000000;\n",
       "}\n",
       "#T_205c8_row3_col2, #T_205c8_row3_col4, #T_205c8_row5_col4, #T_205c8_row9_col5, #T_205c8_row16_col2 {\n",
       "  background-color: #fbfd66;\n",
       "  color: #000000;\n",
       "}\n",
       "#T_205c8_row3_col3, #T_205c8_row12_col3, #T_205c8_row14_col2 {\n",
       "  background-color: #f5fa66;\n",
       "  color: #000000;\n",
       "}\n",
       "#T_205c8_row4_col0 {\n",
       "  background-color: #cbe566;\n",
       "  color: #000000;\n",
       "}\n",
       "#T_205c8_row4_col2, #T_205c8_row8_col2 {\n",
       "  background-color: #dcee66;\n",
       "  color: #000000;\n",
       "}\n",
       "#T_205c8_row4_col5 {\n",
       "  background-color: #dbed66;\n",
       "  color: #000000;\n",
       "}\n",
       "#T_205c8_row5_col2, #T_205c8_row14_col5 {\n",
       "  background-color: #f8fc66;\n",
       "  color: #000000;\n",
       "}\n",
       "#T_205c8_row6_col0 {\n",
       "  background-color: #deee66;\n",
       "  color: #000000;\n",
       "}\n",
       "#T_205c8_row6_col2 {\n",
       "  background-color: #d7eb66;\n",
       "  color: #000000;\n",
       "}\n",
       "#T_205c8_row6_col3, #T_205c8_row8_col0 {\n",
       "  background-color: #e8f466;\n",
       "  color: #000000;\n",
       "}\n",
       "#T_205c8_row7_col3, #T_205c8_row14_col4, #T_205c8_row18_col2 {\n",
       "  background-color: #fdfe66;\n",
       "  color: #000000;\n",
       "}\n",
       "#T_205c8_row8_col3 {\n",
       "  background-color: #eef666;\n",
       "  color: #000000;\n",
       "}\n",
       "#T_205c8_row8_col4 {\n",
       "  background-color: #eff766;\n",
       "  color: #000000;\n",
       "}\n",
       "#T_205c8_row9_col0, #T_205c8_row9_col3, #T_205c8_row9_col4, #T_205c8_row11_col3, #T_205c8_row13_col5, #T_205c8_row15_col2, #T_205c8_row16_col0, #T_205c8_row18_col3, #T_205c8_row18_col5 {\n",
       "  background-color: #fefe66;\n",
       "  color: #000000;\n",
       "}\n",
       "#T_205c8_row10_col0 {\n",
       "  background-color: #f3f966;\n",
       "  color: #000000;\n",
       "}\n",
       "#T_205c8_row10_col2 {\n",
       "  background-color: #e3f166;\n",
       "  color: #000000;\n",
       "}\n",
       "#T_205c8_row10_col4 {\n",
       "  background-color: #f6fa66;\n",
       "  color: #000000;\n",
       "}\n",
       "#T_205c8_row10_col5 {\n",
       "  background-color: #ecf666;\n",
       "  color: #000000;\n",
       "}\n",
       "#T_205c8_row12_col2 {\n",
       "  background-color: #edf666;\n",
       "  color: #000000;\n",
       "}\n",
       "#T_205c8_row35_col0, #T_205c8_row35_col1, #T_205c8_row35_col2, #T_205c8_row35_col3, #T_205c8_row35_col4, #T_205c8_row35_col5 {\n",
       "  background-color: #008066;\n",
       "  color: #f1f1f1;\n",
       "}\n",
       "</style>\n",
       "<table id=\"T_205c8_\">\n",
       "  <thead>\n",
       "    <tr>\n",
       "      <th class=\"blank\" >&nbsp;</th>\n",
       "      <th class=\"index_name level0\" >marital_status</th>\n",
       "      <th class=\"col_heading level0 col0\" >Divorced/Seperated</th>\n",
       "      <th class=\"col_heading level0 col1\" >Dont know</th>\n",
       "      <th class=\"col_heading level0 col2\" >Married/Living together</th>\n",
       "      <th class=\"col_heading level0 col3\" >Single/Never Married</th>\n",
       "      <th class=\"col_heading level0 col4\" >Widowed</th>\n",
       "      <th class=\"col_heading level0 col5\" >All</th>\n",
       "    </tr>\n",
       "    <tr>\n",
       "      <th class=\"index_name level0\" >household_size</th>\n",
       "      <th class=\"index_name level1\" >bank_account</th>\n",
       "      <th class=\"blank col0\" >&nbsp;</th>\n",
       "      <th class=\"blank col1\" >&nbsp;</th>\n",
       "      <th class=\"blank col2\" >&nbsp;</th>\n",
       "      <th class=\"blank col3\" >&nbsp;</th>\n",
       "      <th class=\"blank col4\" >&nbsp;</th>\n",
       "      <th class=\"blank col5\" >&nbsp;</th>\n",
       "    </tr>\n",
       "  </thead>\n",
       "  <tbody>\n",
       "    <tr>\n",
       "      <th id=\"T_205c8_level0_row0\" class=\"row_heading level0 row0\" rowspan=\"2\">1</th>\n",
       "      <th id=\"T_205c8_level1_row0\" class=\"row_heading level1 row0\" >0</th>\n",
       "      <td id=\"T_205c8_row0_col0\" class=\"data row0 col0\" >410</td>\n",
       "      <td id=\"T_205c8_row0_col1\" class=\"data row0 col1\" >3</td>\n",
       "      <td id=\"T_205c8_row0_col2\" class=\"data row0 col2\" >547</td>\n",
       "      <td id=\"T_205c8_row0_col3\" class=\"data row0 col3\" >708</td>\n",
       "      <td id=\"T_205c8_row0_col4\" class=\"data row0 col4\" >805</td>\n",
       "      <td id=\"T_205c8_row0_col5\" class=\"data row0 col5\" >2473</td>\n",
       "    </tr>\n",
       "    <tr>\n",
       "      <th id=\"T_205c8_level1_row1\" class=\"row_heading level1 row1\" >1</th>\n",
       "      <td id=\"T_205c8_row1_col0\" class=\"data row1 col0\" >107</td>\n",
       "      <td id=\"T_205c8_row1_col1\" class=\"data row1 col1\" >1</td>\n",
       "      <td id=\"T_205c8_row1_col2\" class=\"data row1 col2\" >157</td>\n",
       "      <td id=\"T_205c8_row1_col3\" class=\"data row1 col3\" >253</td>\n",
       "      <td id=\"T_205c8_row1_col4\" class=\"data row1 col4\" >66</td>\n",
       "      <td id=\"T_205c8_row1_col5\" class=\"data row1 col5\" >584</td>\n",
       "    </tr>\n",
       "    <tr>\n",
       "      <th id=\"T_205c8_level0_row2\" class=\"row_heading level0 row2\" rowspan=\"2\">2</th>\n",
       "      <th id=\"T_205c8_level1_row2\" class=\"row_heading level1 row2\" >0</th>\n",
       "      <td id=\"T_205c8_row2_col0\" class=\"data row2 col0\" >335</td>\n",
       "      <td id=\"T_205c8_row2_col1\" class=\"data row2 col1\" >0</td>\n",
       "      <td id=\"T_205c8_row2_col2\" class=\"data row2 col2\" >857</td>\n",
       "      <td id=\"T_205c8_row2_col3\" class=\"data row2 col3\" >2874</td>\n",
       "      <td id=\"T_205c8_row2_col4\" class=\"data row2 col4\" >544</td>\n",
       "      <td id=\"T_205c8_row2_col5\" class=\"data row2 col5\" >4610</td>\n",
       "    </tr>\n",
       "    <tr>\n",
       "      <th id=\"T_205c8_level1_row3\" class=\"row_heading level1 row3\" >1</th>\n",
       "      <td id=\"T_205c8_row3_col0\" class=\"data row3 col0\" >41</td>\n",
       "      <td id=\"T_205c8_row3_col1\" class=\"data row3 col1\" >1</td>\n",
       "      <td id=\"T_205c8_row3_col2\" class=\"data row3 col2\" >202</td>\n",
       "      <td id=\"T_205c8_row3_col3\" class=\"data row3 col3\" >330</td>\n",
       "      <td id=\"T_205c8_row3_col4\" class=\"data row3 col4\" >45</td>\n",
       "      <td id=\"T_205c8_row3_col5\" class=\"data row3 col5\" >619</td>\n",
       "    </tr>\n",
       "    <tr>\n",
       "      <th id=\"T_205c8_level0_row4\" class=\"row_heading level0 row4\" rowspan=\"2\">3</th>\n",
       "      <th id=\"T_205c8_level1_row4\" class=\"row_heading level1 row4\" >0</th>\n",
       "      <td id=\"T_205c8_row4_col0\" class=\"data row4 col0\" >424</td>\n",
       "      <td id=\"T_205c8_row4_col1\" class=\"data row4 col1\" >1</td>\n",
       "      <td id=\"T_205c8_row4_col2\" class=\"data row4 col2\" >1489</td>\n",
       "      <td id=\"T_205c8_row4_col3\" class=\"data row4 col3\" >1004</td>\n",
       "      <td id=\"T_205c8_row4_col4\" class=\"data row4 col4\" >443</td>\n",
       "      <td id=\"T_205c8_row4_col5\" class=\"data row4 col5\" >3361</td>\n",
       "    </tr>\n",
       "    <tr>\n",
       "      <th id=\"T_205c8_level1_row5\" class=\"row_heading level1 row5\" >1</th>\n",
       "      <td id=\"T_205c8_row5_col0\" class=\"data row5 col0\" >30</td>\n",
       "      <td id=\"T_205c8_row5_col1\" class=\"data row5 col1\" >0</td>\n",
       "      <td id=\"T_205c8_row5_col2\" class=\"data row5 col2\" >321</td>\n",
       "      <td id=\"T_205c8_row5_col3\" class=\"data row5 col3\" >156</td>\n",
       "      <td id=\"T_205c8_row5_col4\" class=\"data row5 col4\" >52</td>\n",
       "      <td id=\"T_205c8_row5_col5\" class=\"data row5 col5\" >559</td>\n",
       "    </tr>\n",
       "    <tr>\n",
       "      <th id=\"T_205c8_level0_row6\" class=\"row_heading level0 row6\" rowspan=\"2\">4</th>\n",
       "      <th id=\"T_205c8_level1_row6\" class=\"row_heading level1 row6\" >0</th>\n",
       "      <td id=\"T_205c8_row6_col0\" class=\"data row6 col0\" >275</td>\n",
       "      <td id=\"T_205c8_row6_col1\" class=\"data row6 col1\" >1</td>\n",
       "      <td id=\"T_205c8_row6_col2\" class=\"data row6 col2\" >1699</td>\n",
       "      <td id=\"T_205c8_row6_col3\" class=\"data row6 col3\" >718</td>\n",
       "      <td id=\"T_205c8_row6_col4\" class=\"data row6 col4\" >280</td>\n",
       "      <td id=\"T_205c8_row6_col5\" class=\"data row6 col5\" >2973</td>\n",
       "    </tr>\n",
       "    <tr>\n",
       "      <th id=\"T_205c8_level1_row7\" class=\"row_heading level1 row7\" >1</th>\n",
       "      <td id=\"T_205c8_row7_col0\" class=\"data row7 col0\" >30</td>\n",
       "      <td id=\"T_205c8_row7_col1\" class=\"data row7 col1\" >0</td>\n",
       "      <td id=\"T_205c8_row7_col2\" class=\"data row7 col2\" >357</td>\n",
       "      <td id=\"T_205c8_row7_col3\" class=\"data row7 col3\" >74</td>\n",
       "      <td id=\"T_205c8_row7_col4\" class=\"data row7 col4\" >40</td>\n",
       "      <td id=\"T_205c8_row7_col5\" class=\"data row7 col5\" >501</td>\n",
       "    </tr>\n",
       "    <tr>\n",
       "      <th id=\"T_205c8_level0_row8\" class=\"row_heading level0 row8\" rowspan=\"2\">5</th>\n",
       "      <th id=\"T_205c8_level1_row8\" class=\"row_heading level1 row8\" >0</th>\n",
       "      <td id=\"T_205c8_row8_col0\" class=\"data row8 col0\" >190</td>\n",
       "      <td id=\"T_205c8_row8_col1\" class=\"data row8 col1\" >0</td>\n",
       "      <td id=\"T_205c8_row8_col2\" class=\"data row8 col2\" >1502</td>\n",
       "      <td id=\"T_205c8_row8_col3\" class=\"data row8 col3\" >561</td>\n",
       "      <td id=\"T_205c8_row8_col4\" class=\"data row8 col4\" >173</td>\n",
       "      <td id=\"T_205c8_row8_col5\" class=\"data row8 col5\" >2426</td>\n",
       "    </tr>\n",
       "    <tr>\n",
       "      <th id=\"T_205c8_level1_row9\" class=\"row_heading level1 row9\" >1</th>\n",
       "      <td id=\"T_205c8_row9_col0\" class=\"data row9 col0\" >12</td>\n",
       "      <td id=\"T_205c8_row9_col1\" class=\"data row9 col1\" >0</td>\n",
       "      <td id=\"T_205c8_row9_col2\" class=\"data row9 col2\" >340</td>\n",
       "      <td id=\"T_205c8_row9_col3\" class=\"data row9 col3\" >60</td>\n",
       "      <td id=\"T_205c8_row9_col4\" class=\"data row9 col4\" >15</td>\n",
       "      <td id=\"T_205c8_row9_col5\" class=\"data row9 col5\" >427</td>\n",
       "    </tr>\n",
       "    <tr>\n",
       "      <th id=\"T_205c8_level0_row10\" class=\"row_heading level0 row10\" rowspan=\"2\">6</th>\n",
       "      <th id=\"T_205c8_level1_row10\" class=\"row_heading level1 row10\" >0</th>\n",
       "      <td id=\"T_205c8_row10_col0\" class=\"data row10 col0\" >103</td>\n",
       "      <td id=\"T_205c8_row10_col1\" class=\"data row10 col1\" >0</td>\n",
       "      <td id=\"T_205c8_row10_col2\" class=\"data row10 col2\" >1194</td>\n",
       "      <td id=\"T_205c8_row10_col3\" class=\"data row10 col3\" >417</td>\n",
       "      <td id=\"T_205c8_row10_col4\" class=\"data row10 col4\" >105</td>\n",
       "      <td id=\"T_205c8_row10_col5\" class=\"data row10 col5\" >1819</td>\n",
       "    </tr>\n",
       "    <tr>\n",
       "      <th id=\"T_205c8_level1_row11\" class=\"row_heading level1 row11\" >1</th>\n",
       "      <td id=\"T_205c8_row11_col0\" class=\"data row11 col0\" >4</td>\n",
       "      <td id=\"T_205c8_row11_col1\" class=\"data row11 col1\" >0</td>\n",
       "      <td id=\"T_205c8_row11_col2\" class=\"data row11 col2\" >222</td>\n",
       "      <td id=\"T_205c8_row11_col3\" class=\"data row11 col3\" >46</td>\n",
       "      <td id=\"T_205c8_row11_col4\" class=\"data row11 col4\" >5</td>\n",
       "      <td id=\"T_205c8_row11_col5\" class=\"data row11 col5\" >277</td>\n",
       "    </tr>\n",
       "    <tr>\n",
       "      <th id=\"T_205c8_level0_row12\" class=\"row_heading level0 row12\" rowspan=\"2\">7</th>\n",
       "      <th id=\"T_205c8_level1_row12\" class=\"row_heading level1 row12\" >0</th>\n",
       "      <td id=\"T_205c8_row12_col0\" class=\"data row12 col0\" >46</td>\n",
       "      <td id=\"T_205c8_row12_col1\" class=\"data row12 col1\" >0</td>\n",
       "      <td id=\"T_205c8_row12_col2\" class=\"data row12 col2\" >786</td>\n",
       "      <td id=\"T_205c8_row12_col3\" class=\"data row12 col3\" >326</td>\n",
       "      <td id=\"T_205c8_row12_col4\" class=\"data row12 col4\" >65</td>\n",
       "      <td id=\"T_205c8_row12_col5\" class=\"data row12 col5\" >1223</td>\n",
       "    </tr>\n",
       "    <tr>\n",
       "      <th id=\"T_205c8_level1_row13\" class=\"row_heading level1 row13\" >1</th>\n",
       "      <td id=\"T_205c8_row13_col0\" class=\"data row13 col0\" >5</td>\n",
       "      <td id=\"T_205c8_row13_col1\" class=\"data row13 col1\" >0</td>\n",
       "      <td id=\"T_205c8_row13_col2\" class=\"data row13 col2\" >148</td>\n",
       "      <td id=\"T_205c8_row13_col3\" class=\"data row13 col3\" >18</td>\n",
       "      <td id=\"T_205c8_row13_col4\" class=\"data row13 col4\" >6</td>\n",
       "      <td id=\"T_205c8_row13_col5\" class=\"data row13 col5\" >177</td>\n",
       "    </tr>\n",
       "    <tr>\n",
       "      <th id=\"T_205c8_level0_row14\" class=\"row_heading level0 row14\" rowspan=\"2\">8</th>\n",
       "      <th id=\"T_205c8_level1_row14\" class=\"row_heading level1 row14\" >0</th>\n",
       "      <td id=\"T_205c8_row14_col0\" class=\"data row14 col0\" >27</td>\n",
       "      <td id=\"T_205c8_row14_col1\" class=\"data row14 col1\" >1</td>\n",
       "      <td id=\"T_205c8_row14_col2\" class=\"data row14 col2\" >425</td>\n",
       "      <td id=\"T_205c8_row14_col3\" class=\"data row14 col3\" >187</td>\n",
       "      <td id=\"T_205c8_row14_col4\" class=\"data row14 col4\" >25</td>\n",
       "      <td id=\"T_205c8_row14_col5\" class=\"data row14 col5\" >665</td>\n",
       "    </tr>\n",
       "    <tr>\n",
       "      <th id=\"T_205c8_level1_row15\" class=\"row_heading level1 row15\" >1</th>\n",
       "      <td id=\"T_205c8_row15_col0\" class=\"data row15 col0\" >2</td>\n",
       "      <td id=\"T_205c8_row15_col1\" class=\"data row15 col1\" >0</td>\n",
       "      <td id=\"T_205c8_row15_col2\" class=\"data row15 col2\" >67</td>\n",
       "      <td id=\"T_205c8_row15_col3\" class=\"data row15 col3\" >12</td>\n",
       "      <td id=\"T_205c8_row15_col4\" class=\"data row15 col4\" >5</td>\n",
       "      <td id=\"T_205c8_row15_col5\" class=\"data row15 col5\" >86</td>\n",
       "    </tr>\n",
       "    <tr>\n",
       "      <th id=\"T_205c8_level0_row16\" class=\"row_heading level0 row16\" rowspan=\"2\">9</th>\n",
       "      <th id=\"T_205c8_level1_row16\" class=\"row_heading level1 row16\" >0</th>\n",
       "      <td id=\"T_205c8_row16_col0\" class=\"data row16 col0\" >16</td>\n",
       "      <td id=\"T_205c8_row16_col1\" class=\"data row16 col1\" >0</td>\n",
       "      <td id=\"T_205c8_row16_col2\" class=\"data row16 col2\" >198</td>\n",
       "      <td id=\"T_205c8_row16_col3\" class=\"data row16 col3\" >102</td>\n",
       "      <td id=\"T_205c8_row16_col4\" class=\"data row16 col4\" >10</td>\n",
       "      <td id=\"T_205c8_row16_col5\" class=\"data row16 col5\" >326</td>\n",
       "    </tr>\n",
       "    <tr>\n",
       "      <th id=\"T_205c8_level1_row17\" class=\"row_heading level1 row17\" >1</th>\n",
       "      <td id=\"T_205c8_row17_col0\" class=\"data row17 col0\" >1</td>\n",
       "      <td id=\"T_205c8_row17_col1\" class=\"data row17 col1\" >0</td>\n",
       "      <td id=\"T_205c8_row17_col2\" class=\"data row17 col2\" >27</td>\n",
       "      <td id=\"T_205c8_row17_col3\" class=\"data row17 col3\" >5</td>\n",
       "      <td id=\"T_205c8_row17_col4\" class=\"data row17 col4\" >4</td>\n",
       "      <td id=\"T_205c8_row17_col5\" class=\"data row17 col5\" >37</td>\n",
       "    </tr>\n",
       "    <tr>\n",
       "      <th id=\"T_205c8_level0_row18\" class=\"row_heading level0 row18\" rowspan=\"2\">10</th>\n",
       "      <th id=\"T_205c8_level1_row18\" class=\"row_heading level1 row18\" >0</th>\n",
       "      <td id=\"T_205c8_row18_col0\" class=\"data row18 col0\" >4</td>\n",
       "      <td id=\"T_205c8_row18_col1\" class=\"data row18 col1\" >0</td>\n",
       "      <td id=\"T_205c8_row18_col2\" class=\"data row18 col2\" >94</td>\n",
       "      <td id=\"T_205c8_row18_col3\" class=\"data row18 col3\" >61</td>\n",
       "      <td id=\"T_205c8_row18_col4\" class=\"data row18 col4\" >6</td>\n",
       "      <td id=\"T_205c8_row18_col5\" class=\"data row18 col5\" >165</td>\n",
       "    </tr>\n",
       "    <tr>\n",
       "      <th id=\"T_205c8_level1_row19\" class=\"row_heading level1 row19\" >1</th>\n",
       "      <td id=\"T_205c8_row19_col0\" class=\"data row19 col0\" >0</td>\n",
       "      <td id=\"T_205c8_row19_col1\" class=\"data row19 col1\" >0</td>\n",
       "      <td id=\"T_205c8_row19_col2\" class=\"data row19 col2\" >13</td>\n",
       "      <td id=\"T_205c8_row19_col3\" class=\"data row19 col3\" >8</td>\n",
       "      <td id=\"T_205c8_row19_col4\" class=\"data row19 col4\" >4</td>\n",
       "      <td id=\"T_205c8_row19_col5\" class=\"data row19 col5\" >25</td>\n",
       "    </tr>\n",
       "    <tr>\n",
       "      <th id=\"T_205c8_level0_row20\" class=\"row_heading level0 row20\" rowspan=\"2\">11</th>\n",
       "      <th id=\"T_205c8_level1_row20\" class=\"row_heading level1 row20\" >0</th>\n",
       "      <td id=\"T_205c8_row20_col0\" class=\"data row20 col0\" >4</td>\n",
       "      <td id=\"T_205c8_row20_col1\" class=\"data row20 col1\" >0</td>\n",
       "      <td id=\"T_205c8_row20_col2\" class=\"data row20 col2\" >33</td>\n",
       "      <td id=\"T_205c8_row20_col3\" class=\"data row20 col3\" >26</td>\n",
       "      <td id=\"T_205c8_row20_col4\" class=\"data row20 col4\" >0</td>\n",
       "      <td id=\"T_205c8_row20_col5\" class=\"data row20 col5\" >63</td>\n",
       "    </tr>\n",
       "    <tr>\n",
       "      <th id=\"T_205c8_level1_row21\" class=\"row_heading level1 row21\" >1</th>\n",
       "      <td id=\"T_205c8_row21_col0\" class=\"data row21 col0\" >0</td>\n",
       "      <td id=\"T_205c8_row21_col1\" class=\"data row21 col1\" >0</td>\n",
       "      <td id=\"T_205c8_row21_col2\" class=\"data row21 col2\" >5</td>\n",
       "      <td id=\"T_205c8_row21_col3\" class=\"data row21 col3\" >1</td>\n",
       "      <td id=\"T_205c8_row21_col4\" class=\"data row21 col4\" >0</td>\n",
       "      <td id=\"T_205c8_row21_col5\" class=\"data row21 col5\" >6</td>\n",
       "    </tr>\n",
       "    <tr>\n",
       "      <th id=\"T_205c8_level0_row22\" class=\"row_heading level0 row22\" rowspan=\"2\">12</th>\n",
       "      <th id=\"T_205c8_level1_row22\" class=\"row_heading level1 row22\" >0</th>\n",
       "      <td id=\"T_205c8_row22_col0\" class=\"data row22 col0\" >6</td>\n",
       "      <td id=\"T_205c8_row22_col1\" class=\"data row22 col1\" >0</td>\n",
       "      <td id=\"T_205c8_row22_col2\" class=\"data row22 col2\" >32</td>\n",
       "      <td id=\"T_205c8_row22_col3\" class=\"data row22 col3\" >19</td>\n",
       "      <td id=\"T_205c8_row22_col4\" class=\"data row22 col4\" >4</td>\n",
       "      <td id=\"T_205c8_row22_col5\" class=\"data row22 col5\" >61</td>\n",
       "    </tr>\n",
       "    <tr>\n",
       "      <th id=\"T_205c8_level1_row23\" class=\"row_heading level1 row23\" >1</th>\n",
       "      <td id=\"T_205c8_row23_col0\" class=\"data row23 col0\" >1</td>\n",
       "      <td id=\"T_205c8_row23_col1\" class=\"data row23 col1\" >0</td>\n",
       "      <td id=\"T_205c8_row23_col2\" class=\"data row23 col2\" >3</td>\n",
       "      <td id=\"T_205c8_row23_col3\" class=\"data row23 col3\" >2</td>\n",
       "      <td id=\"T_205c8_row23_col4\" class=\"data row23 col4\" >1</td>\n",
       "      <td id=\"T_205c8_row23_col5\" class=\"data row23 col5\" >7</td>\n",
       "    </tr>\n",
       "    <tr>\n",
       "      <th id=\"T_205c8_level0_row24\" class=\"row_heading level0 row24\" rowspan=\"2\">13</th>\n",
       "      <th id=\"T_205c8_level1_row24\" class=\"row_heading level1 row24\" >0</th>\n",
       "      <td id=\"T_205c8_row24_col0\" class=\"data row24 col0\" >0</td>\n",
       "      <td id=\"T_205c8_row24_col1\" class=\"data row24 col1\" >0</td>\n",
       "      <td id=\"T_205c8_row24_col2\" class=\"data row24 col2\" >14</td>\n",
       "      <td id=\"T_205c8_row24_col3\" class=\"data row24 col3\" >7</td>\n",
       "      <td id=\"T_205c8_row24_col4\" class=\"data row24 col4\" >2</td>\n",
       "      <td id=\"T_205c8_row24_col5\" class=\"data row24 col5\" >23</td>\n",
       "    </tr>\n",
       "    <tr>\n",
       "      <th id=\"T_205c8_level1_row25\" class=\"row_heading level1 row25\" >1</th>\n",
       "      <td id=\"T_205c8_row25_col0\" class=\"data row25 col0\" >0</td>\n",
       "      <td id=\"T_205c8_row25_col1\" class=\"data row25 col1\" >0</td>\n",
       "      <td id=\"T_205c8_row25_col2\" class=\"data row25 col2\" >2</td>\n",
       "      <td id=\"T_205c8_row25_col3\" class=\"data row25 col3\" >0</td>\n",
       "      <td id=\"T_205c8_row25_col4\" class=\"data row25 col4\" >0</td>\n",
       "      <td id=\"T_205c8_row25_col5\" class=\"data row25 col5\" >2</td>\n",
       "    </tr>\n",
       "    <tr>\n",
       "      <th id=\"T_205c8_level0_row26\" class=\"row_heading level0 row26\" rowspan=\"2\">14</th>\n",
       "      <th id=\"T_205c8_level1_row26\" class=\"row_heading level1 row26\" >0</th>\n",
       "      <td id=\"T_205c8_row26_col0\" class=\"data row26 col0\" >2</td>\n",
       "      <td id=\"T_205c8_row26_col1\" class=\"data row26 col1\" >0</td>\n",
       "      <td id=\"T_205c8_row26_col2\" class=\"data row26 col2\" >2</td>\n",
       "      <td id=\"T_205c8_row26_col3\" class=\"data row26 col3\" >4</td>\n",
       "      <td id=\"T_205c8_row26_col4\" class=\"data row26 col4\" >0</td>\n",
       "      <td id=\"T_205c8_row26_col5\" class=\"data row26 col5\" >8</td>\n",
       "    </tr>\n",
       "    <tr>\n",
       "      <th id=\"T_205c8_level1_row27\" class=\"row_heading level1 row27\" >1</th>\n",
       "      <td id=\"T_205c8_row27_col0\" class=\"data row27 col0\" >0</td>\n",
       "      <td id=\"T_205c8_row27_col1\" class=\"data row27 col1\" >0</td>\n",
       "      <td id=\"T_205c8_row27_col2\" class=\"data row27 col2\" >1</td>\n",
       "      <td id=\"T_205c8_row27_col3\" class=\"data row27 col3\" >1</td>\n",
       "      <td id=\"T_205c8_row27_col4\" class=\"data row27 col4\" >0</td>\n",
       "      <td id=\"T_205c8_row27_col5\" class=\"data row27 col5\" >2</td>\n",
       "    </tr>\n",
       "    <tr>\n",
       "      <th id=\"T_205c8_level0_row28\" class=\"row_heading level0 row28\" rowspan=\"2\">15</th>\n",
       "      <th id=\"T_205c8_level1_row28\" class=\"row_heading level1 row28\" >0</th>\n",
       "      <td id=\"T_205c8_row28_col0\" class=\"data row28 col0\" >0</td>\n",
       "      <td id=\"T_205c8_row28_col1\" class=\"data row28 col1\" >0</td>\n",
       "      <td id=\"T_205c8_row28_col2\" class=\"data row28 col2\" >4</td>\n",
       "      <td id=\"T_205c8_row28_col3\" class=\"data row28 col3\" >3</td>\n",
       "      <td id=\"T_205c8_row28_col4\" class=\"data row28 col4\" >2</td>\n",
       "      <td id=\"T_205c8_row28_col5\" class=\"data row28 col5\" >9</td>\n",
       "    </tr>\n",
       "    <tr>\n",
       "      <th id=\"T_205c8_level1_row29\" class=\"row_heading level1 row29\" >1</th>\n",
       "      <td id=\"T_205c8_row29_col0\" class=\"data row29 col0\" >1</td>\n",
       "      <td id=\"T_205c8_row29_col1\" class=\"data row29 col1\" >0</td>\n",
       "      <td id=\"T_205c8_row29_col2\" class=\"data row29 col2\" >1</td>\n",
       "      <td id=\"T_205c8_row29_col3\" class=\"data row29 col3\" >0</td>\n",
       "      <td id=\"T_205c8_row29_col4\" class=\"data row29 col4\" >0</td>\n",
       "      <td id=\"T_205c8_row29_col5\" class=\"data row29 col5\" >2</td>\n",
       "    </tr>\n",
       "    <tr>\n",
       "      <th id=\"T_205c8_level0_row30\" class=\"row_heading level0 row30\" >16</th>\n",
       "      <th id=\"T_205c8_level1_row30\" class=\"row_heading level1 row30\" >0</th>\n",
       "      <td id=\"T_205c8_row30_col0\" class=\"data row30 col0\" >0</td>\n",
       "      <td id=\"T_205c8_row30_col1\" class=\"data row30 col1\" >0</td>\n",
       "      <td id=\"T_205c8_row30_col2\" class=\"data row30 col2\" >4</td>\n",
       "      <td id=\"T_205c8_row30_col3\" class=\"data row30 col3\" >0</td>\n",
       "      <td id=\"T_205c8_row30_col4\" class=\"data row30 col4\" >0</td>\n",
       "      <td id=\"T_205c8_row30_col5\" class=\"data row30 col5\" >4</td>\n",
       "    </tr>\n",
       "    <tr>\n",
       "      <th id=\"T_205c8_level0_row31\" class=\"row_heading level0 row31\" >17</th>\n",
       "      <th id=\"T_205c8_level1_row31\" class=\"row_heading level1 row31\" >1</th>\n",
       "      <td id=\"T_205c8_row31_col0\" class=\"data row31 col0\" >0</td>\n",
       "      <td id=\"T_205c8_row31_col1\" class=\"data row31 col1\" >0</td>\n",
       "      <td id=\"T_205c8_row31_col2\" class=\"data row31 col2\" >0</td>\n",
       "      <td id=\"T_205c8_row31_col3\" class=\"data row31 col3\" >0</td>\n",
       "      <td id=\"T_205c8_row31_col4\" class=\"data row31 col4\" >1</td>\n",
       "      <td id=\"T_205c8_row31_col5\" class=\"data row31 col5\" >1</td>\n",
       "    </tr>\n",
       "    <tr>\n",
       "      <th id=\"T_205c8_level0_row32\" class=\"row_heading level0 row32\" >18</th>\n",
       "      <th id=\"T_205c8_level1_row32\" class=\"row_heading level1 row32\" >0</th>\n",
       "      <td id=\"T_205c8_row32_col0\" class=\"data row32 col0\" >0</td>\n",
       "      <td id=\"T_205c8_row32_col1\" class=\"data row32 col1\" >0</td>\n",
       "      <td id=\"T_205c8_row32_col2\" class=\"data row32 col2\" >1</td>\n",
       "      <td id=\"T_205c8_row32_col3\" class=\"data row32 col3\" >0</td>\n",
       "      <td id=\"T_205c8_row32_col4\" class=\"data row32 col4\" >0</td>\n",
       "      <td id=\"T_205c8_row32_col5\" class=\"data row32 col5\" >1</td>\n",
       "    </tr>\n",
       "    <tr>\n",
       "      <th id=\"T_205c8_level0_row33\" class=\"row_heading level0 row33\" >20</th>\n",
       "      <th id=\"T_205c8_level1_row33\" class=\"row_heading level1 row33\" >0</th>\n",
       "      <td id=\"T_205c8_row33_col0\" class=\"data row33 col0\" >0</td>\n",
       "      <td id=\"T_205c8_row33_col1\" class=\"data row33 col1\" >0</td>\n",
       "      <td id=\"T_205c8_row33_col2\" class=\"data row33 col2\" >1</td>\n",
       "      <td id=\"T_205c8_row33_col3\" class=\"data row33 col3\" >0</td>\n",
       "      <td id=\"T_205c8_row33_col4\" class=\"data row33 col4\" >0</td>\n",
       "      <td id=\"T_205c8_row33_col5\" class=\"data row33 col5\" >1</td>\n",
       "    </tr>\n",
       "    <tr>\n",
       "      <th id=\"T_205c8_level0_row34\" class=\"row_heading level0 row34\" >21</th>\n",
       "      <th id=\"T_205c8_level1_row34\" class=\"row_heading level1 row34\" >0</th>\n",
       "      <td id=\"T_205c8_row34_col0\" class=\"data row34 col0\" >0</td>\n",
       "      <td id=\"T_205c8_row34_col1\" class=\"data row34 col1\" >0</td>\n",
       "      <td id=\"T_205c8_row34_col2\" class=\"data row34 col2\" >1</td>\n",
       "      <td id=\"T_205c8_row34_col3\" class=\"data row34 col3\" >0</td>\n",
       "      <td id=\"T_205c8_row34_col4\" class=\"data row34 col4\" >0</td>\n",
       "      <td id=\"T_205c8_row34_col5\" class=\"data row34 col5\" >1</td>\n",
       "    </tr>\n",
       "    <tr>\n",
       "      <th id=\"T_205c8_level0_row35\" class=\"row_heading level0 row35\" >All</th>\n",
       "      <th id=\"T_205c8_level1_row35\" class=\"row_heading level1 row35\" ></th>\n",
       "      <td id=\"T_205c8_row35_col0\" class=\"data row35 col0\" >2076</td>\n",
       "      <td id=\"T_205c8_row35_col1\" class=\"data row35 col1\" >8</td>\n",
       "      <td id=\"T_205c8_row35_col2\" class=\"data row35 col2\" >10749</td>\n",
       "      <td id=\"T_205c8_row35_col3\" class=\"data row35 col3\" >7983</td>\n",
       "      <td id=\"T_205c8_row35_col4\" class=\"data row35 col4\" >2708</td>\n",
       "      <td id=\"T_205c8_row35_col5\" class=\"data row35 col5\" >23524</td>\n",
       "    </tr>\n",
       "  </tbody>\n",
       "</table>\n"
      ],
      "text/plain": [
       "<pandas.io.formats.style.Styler at 0x2400f01e8b0>"
      ]
     },
     "execution_count": 25,
     "metadata": {},
     "output_type": "execute_result"
    }
   ],
   "source": [
    "pd.crosstab([df[\"household_size\"], df[\"bank_account\"]], df[\"marital_status\"], \n",
    "            margins = True).style.background_gradient(cmap = \"summer_r\")"
   ]
  },
  {
   "cell_type": "code",
   "execution_count": 26,
   "id": "a32ee90f",
   "metadata": {},
   "outputs": [
    {
     "name": "stderr",
     "output_type": "stream",
     "text": [
      "C:\\Users\\user\\anaconda3\\lib\\site-packages\\seaborn\\_decorators.py:36: FutureWarning: Pass the following variable as a keyword arg: x. From version 0.12, the only valid positional argument will be `data`, and passing other arguments without an explicit keyword will result in an error or misinterpretation.\n",
      "  warnings.warn(\n"
     ]
    },
    {
     "data": {
      "image/png": "[encoded data removed]",
      "text/plain": [
       "<Figure size 432x288 with 1 Axes>"
      ]
     },
     "metadata": {
      "needs_background": "light"
     },
     "output_type": "display_data"
    }
   ],
   "source": [
    "sns.countplot(\"job_type\", hue = \"bank_account\", data = df)\n",
    "plt.show()"
   ]
  },
  {
   "cell_type": "code",
   "execution_count": 27,
   "id": "6556aef5",
   "metadata": {
    "scrolled": true
   },
   "outputs": [
    {
     "name": "stderr",
     "output_type": "stream",
     "text": [
      "C:\\Users\\user\\anaconda3\\lib\\site-packages\\seaborn\\_decorators.py:36: FutureWarning: Pass the following variable as a keyword arg: x. From version 0.12, the only valid positional argument will be `data`, and passing other arguments without an explicit keyword will result in an error or misinterpretation.\n",
      "  warnings.warn(\n",
      "C:\\Users\\user\\anaconda3\\lib\\site-packages\\seaborn\\_decorators.py:36: FutureWarning: Pass the following variable as a keyword arg: x. From version 0.12, the only valid positional argument will be `data`, and passing other arguments without an explicit keyword will result in an error or misinterpretation.\n",
      "  warnings.warn(\n"
     ]
    },
    {
     "data": {
      "image/png": "[encoded data removed]",
      "text/plain": [
       "<Figure size 1080x360 with 2 Axes>"
      ]
     },
     "metadata": {
      "needs_background": "light"
     },
     "output_type": "display_data"
    }
   ],
   "source": [
    "fig, ax = plt.subplots(1, 2, figsize = (15, 5))\n",
    "sns.boxplot(df[df[\"location_type\"] == 'Rural'][\"bank_account\"], ax = ax[0])\n",
    "ax[0].set_title(\"Household in Rural\")\n",
    "sns.boxplot(df[df[\"location_type\"] == 'Urban'][\"bank_account\"], ax = ax[1])\n",
    "ax[1].set_title(\"Household in Urban\")\n",
    "plt.show()"
   ]
  },
  {
   "cell_type": "code",
   "execution_count": 28,
   "id": "1986b02c",
   "metadata": {
    "scrolled": true
   },
   "outputs": [
    {
     "data": {
      "text/plain": [
       "<AxesSubplot:xlabel='bank_account', ylabel='count'>"
      ]
     },
     "execution_count": 28,
     "metadata": {},
     "output_type": "execute_result"
    },
    {
     "data": {
      "image/png": "[encoded data removed]",
      "text/plain": [
       "<Figure size 432x288 with 1 Axes>"
      ]
     },
     "metadata": {},
     "output_type": "display_data"
    }
   ],
   "source": [
    "sns.set_style('whitegrid')\n",
    "sns.countplot(x='bank_account',hue='relationship_with_head',data=df,palette='rainbow')"
   ]
  },
  {
   "cell_type": "code",
   "execution_count": 29,
   "id": "f4947b79",
   "metadata": {},
   "outputs": [
    {
     "name": "stderr",
     "output_type": "stream",
     "text": [
      "C:\\Users\\user\\anaconda3\\lib\\site-packages\\seaborn\\distributions.py:2619: FutureWarning: `distplot` is a deprecated function and will be removed in a future version. Please adapt your code to use either `displot` (a figure-level function with similar flexibility) or `histplot` (an axes-level function for histograms).\n",
      "  warnings.warn(msg, FutureWarning)\n"
     ]
    },
    {
     "data": {
      "text/plain": [
       "<AxesSubplot:xlabel='age_of_respondent'>"
      ]
     },
     "execution_count": 29,
     "metadata": {},
     "output_type": "execute_result"
    },
    {
     "data": {
      "image/png": "[encoded data removed]",
      "text/plain": [
       "<Figure size 432x288 with 1 Axes>"
      ]
     },
     "metadata": {},
     "output_type": "display_data"
    }
   ],
   "source": [
    "sns.distplot(df['age_of_respondent'].dropna(),kde=False,color='indigo',bins=30)"
   ]
  },
  {
   "cell_type": "code",
   "execution_count": 30,
   "id": "ec606904",
   "metadata": {},
   "outputs": [
    {
     "data": {
      "text/plain": [
       "<AxesSubplot:>"
      ]
     },
     "execution_count": 30,
     "metadata": {},
     "output_type": "execute_result"
    },
    {
     "data": {
      "image/png": "[encoded data removed]",
      "text/plain": [
       "<Figure size 432x288 with 1 Axes>"
      ]
     },
     "metadata": {},
     "output_type": "display_data"
    }
   ],
   "source": [
    "df['age_of_respondent'].hist(bins=30,color='maroon',alpha=0.95)"
   ]
  },
  {
   "cell_type": "code",
   "execution_count": 31,
   "id": "55f528a1",
   "metadata": {},
   "outputs": [
    {
     "data": {
      "text/plain": [
       "<AxesSubplot:xlabel='bank_account', ylabel='age_of_respondent'>"
      ]
     },
     "execution_count": 31,
     "metadata": {},
     "output_type": "execute_result"
    },
    {
     "data": {
      "image/png": "[encoded data removed]",
      "text/plain": [
       "<Figure size 864x504 with 1 Axes>"
      ]
     },
     "metadata": {},
     "output_type": "display_data"
    }
   ],
   "source": [
    "plt.figure(figsize=(12, 7))\n",
    "sns.boxplot(x='bank_account',y='age_of_respondent',data=df,palette='winter')"
   ]
  },
  {
   "cell_type": "code",
   "execution_count": 32,
   "id": "081ccb3b",
   "metadata": {},
   "outputs": [
    {
     "data": {
      "text/html": [
       "<div>\n",
       "<style scoped>\n",
       "    .dataframe tbody tr th:only-of-type {\n",
       "        vertical-align: middle;\n",
       "    }\n",
       "\n",
       "    .dataframe tbody tr th {\n",
       "        vertical-align: top;\n",
       "    }\n",
       "\n",
       "    .dataframe thead th {\n",
       "        text-align: right;\n",
       "    }\n",
       "</style>\n",
       "<table border=\"1\" class=\"dataframe\">\n",
       "  <thead>\n",
       "    <tr style=\"text-align: right;\">\n",
       "      <th></th>\n",
       "      <th>country</th>\n",
       "      <th>year</th>\n",
       "      <th>uniqueid</th>\n",
       "      <th>bank_account</th>\n",
       "      <th>location_type</th>\n",
       "      <th>cellphone_access</th>\n",
       "      <th>household_size</th>\n",
       "      <th>age_of_respondent</th>\n",
       "      <th>gender_of_respondent</th>\n",
       "      <th>relationship_with_head</th>\n",
       "      <th>marital_status</th>\n",
       "      <th>education_level</th>\n",
       "      <th>job_type</th>\n",
       "    </tr>\n",
       "  </thead>\n",
       "  <tbody>\n",
       "    <tr>\n",
       "      <th>0</th>\n",
       "      <td>Kenya</td>\n",
       "      <td>2018</td>\n",
       "      <td>uniqueid_1</td>\n",
       "      <td>1</td>\n",
       "      <td>Rural</td>\n",
       "      <td>Yes</td>\n",
       "      <td>3</td>\n",
       "      <td>24</td>\n",
       "      <td>Female</td>\n",
       "      <td>Spouse</td>\n",
       "      <td>Married/Living together</td>\n",
       "      <td>Secondary education</td>\n",
       "      <td>Self employed</td>\n",
       "    </tr>\n",
       "    <tr>\n",
       "      <th>1</th>\n",
       "      <td>Kenya</td>\n",
       "      <td>2018</td>\n",
       "      <td>uniqueid_2</td>\n",
       "      <td>0</td>\n",
       "      <td>Rural</td>\n",
       "      <td>No</td>\n",
       "      <td>5</td>\n",
       "      <td>70</td>\n",
       "      <td>Female</td>\n",
       "      <td>Head of Household</td>\n",
       "      <td>Widowed</td>\n",
       "      <td>No formal education</td>\n",
       "      <td>Government Dependent</td>\n",
       "    </tr>\n",
       "    <tr>\n",
       "      <th>2</th>\n",
       "      <td>Kenya</td>\n",
       "      <td>2018</td>\n",
       "      <td>uniqueid_3</td>\n",
       "      <td>1</td>\n",
       "      <td>Urban</td>\n",
       "      <td>Yes</td>\n",
       "      <td>5</td>\n",
       "      <td>26</td>\n",
       "      <td>Male</td>\n",
       "      <td>Other relative</td>\n",
       "      <td>Single/Never Married</td>\n",
       "      <td>Vocational/Specialised training</td>\n",
       "      <td>Self employed</td>\n",
       "    </tr>\n",
       "    <tr>\n",
       "      <th>3</th>\n",
       "      <td>Kenya</td>\n",
       "      <td>2018</td>\n",
       "      <td>uniqueid_4</td>\n",
       "      <td>0</td>\n",
       "      <td>Rural</td>\n",
       "      <td>Yes</td>\n",
       "      <td>5</td>\n",
       "      <td>34</td>\n",
       "      <td>Female</td>\n",
       "      <td>Head of Household</td>\n",
       "      <td>Married/Living together</td>\n",
       "      <td>Primary education</td>\n",
       "      <td>Formally employed Private</td>\n",
       "    </tr>\n",
       "    <tr>\n",
       "      <th>4</th>\n",
       "      <td>Kenya</td>\n",
       "      <td>2018</td>\n",
       "      <td>uniqueid_5</td>\n",
       "      <td>0</td>\n",
       "      <td>Urban</td>\n",
       "      <td>No</td>\n",
       "      <td>8</td>\n",
       "      <td>26</td>\n",
       "      <td>Male</td>\n",
       "      <td>Child</td>\n",
       "      <td>Single/Never Married</td>\n",
       "      <td>Primary education</td>\n",
       "      <td>Informally employed</td>\n",
       "    </tr>\n",
       "  </tbody>\n",
       "</table>\n",
       "</div>"
      ],
      "text/plain": [
       "  country  year    uniqueid  bank_account location_type cellphone_access  \\\n",
       "0   Kenya  2018  uniqueid_1             1         Rural              Yes   \n",
       "1   Kenya  2018  uniqueid_2             0         Rural               No   \n",
       "2   Kenya  2018  uniqueid_3             1         Urban              Yes   \n",
       "3   Kenya  2018  uniqueid_4             0         Rural              Yes   \n",
       "4   Kenya  2018  uniqueid_5             0         Urban               No   \n",
       "\n",
       "   household_size  age_of_respondent gender_of_respondent  \\\n",
       "0               3                 24               Female   \n",
       "1               5                 70               Female   \n",
       "2               5                 26                 Male   \n",
       "3               5                 34               Female   \n",
       "4               8                 26                 Male   \n",
       "\n",
       "  relationship_with_head           marital_status  \\\n",
       "0                 Spouse  Married/Living together   \n",
       "1      Head of Household                  Widowed   \n",
       "2         Other relative     Single/Never Married   \n",
       "3      Head of Household  Married/Living together   \n",
       "4                  Child     Single/Never Married   \n",
       "\n",
       "                   education_level                   job_type  \n",
       "0              Secondary education              Self employed  \n",
       "1              No formal education       Government Dependent  \n",
       "2  Vocational/Specialised training              Self employed  \n",
       "3                Primary education  Formally employed Private  \n",
       "4                Primary education        Informally employed  "
      ]
     },
     "execution_count": 32,
     "metadata": {},
     "output_type": "execute_result"
    }
   ],
   "source": [
    "df.head()"
   ]
  },
  {
   "cell_type": "code",
   "execution_count": 33,
   "id": "6e7ca648",
   "metadata": {},
   "outputs": [
    {
     "data": {
      "text/plain": [
       "Married/Living together    10749\n",
       "Single/Never Married        7983\n",
       "Widowed                     2708\n",
       "Divorced/Seperated          2076\n",
       "Dont know                      8\n",
       "Name: marital_status, dtype: int64"
      ]
     },
     "execution_count": 33,
     "metadata": {},
     "output_type": "execute_result"
    }
   ],
   "source": [
    "df['marital_status'].value_counts()"
   ]
  },
  {
   "cell_type": "code",
   "execution_count": 34,
   "id": "b095497a",
   "metadata": {},
   "outputs": [
    {
     "data": {
      "text/html": [
       "<div>\n",
       "<style scoped>\n",
       "    .dataframe tbody tr th:only-of-type {\n",
       "        vertical-align: middle;\n",
       "    }\n",
       "\n",
       "    .dataframe tbody tr th {\n",
       "        vertical-align: top;\n",
       "    }\n",
       "\n",
       "    .dataframe thead th {\n",
       "        text-align: right;\n",
       "    }\n",
       "</style>\n",
       "<table border=\"1\" class=\"dataframe\">\n",
       "  <thead>\n",
       "    <tr style=\"text-align: right;\">\n",
       "      <th></th>\n",
       "      <th>year</th>\n",
       "      <th>bank_account</th>\n",
       "      <th>household_size</th>\n",
       "      <th>age_of_respondent</th>\n",
       "    </tr>\n",
       "  </thead>\n",
       "  <tbody>\n",
       "    <tr>\n",
       "      <th>year</th>\n",
       "      <td>1.000000</td>\n",
       "      <td>0.112318</td>\n",
       "      <td>-0.052264</td>\n",
       "      <td>-0.019330</td>\n",
       "    </tr>\n",
       "    <tr>\n",
       "      <th>bank_account</th>\n",
       "      <td>0.112318</td>\n",
       "      <td>1.000000</td>\n",
       "      <td>-0.028326</td>\n",
       "      <td>0.019429</td>\n",
       "    </tr>\n",
       "    <tr>\n",
       "      <th>household_size</th>\n",
       "      <td>-0.052264</td>\n",
       "      <td>-0.028326</td>\n",
       "      <td>1.000000</td>\n",
       "      <td>-0.129729</td>\n",
       "    </tr>\n",
       "    <tr>\n",
       "      <th>age_of_respondent</th>\n",
       "      <td>-0.019330</td>\n",
       "      <td>0.019429</td>\n",
       "      <td>-0.129729</td>\n",
       "      <td>1.000000</td>\n",
       "    </tr>\n",
       "  </tbody>\n",
       "</table>\n",
       "</div>"
      ],
      "text/plain": [
       "                       year  bank_account  household_size  age_of_respondent\n",
       "year               1.000000      0.112318       -0.052264          -0.019330\n",
       "bank_account       0.112318      1.000000       -0.028326           0.019429\n",
       "household_size    -0.052264     -0.028326        1.000000          -0.129729\n",
       "age_of_respondent -0.019330      0.019429       -0.129729           1.000000"
      ]
     },
     "execution_count": 34,
     "metadata": {},
     "output_type": "execute_result"
    }
   ],
   "source": [
    "df.corr()"
   ]
  },
  {
   "cell_type": "code",
   "execution_count": 52,
   "id": "7eda6f2e",
   "metadata": {},
   "outputs": [
    {
     "ename": "KeyError",
     "evalue": "'location_type'",
     "output_type": "error",
     "traceback": [
      "\u001b[1;31m---------------------------------------------------------------------------\u001b[0m",
      "\u001b[1;31mKeyError\u001b[0m                                  Traceback (most recent call last)",
      "\u001b[1;32m~\\anaconda3\\lib\\site-packages\\pandas\\core\\indexes\\base.py\u001b[0m in \u001b[0;36mget_loc\u001b[1;34m(self, key, method, tolerance)\u001b[0m\n\u001b[0;32m   3360\u001b[0m             \u001b[1;32mtry\u001b[0m\u001b[1;33m:\u001b[0m\u001b[1;33m\u001b[0m\u001b[1;33m\u001b[0m\u001b[0m\n\u001b[1;32m-> 3361\u001b[1;33m                 \u001b[1;32mreturn\u001b[0m \u001b[0mself\u001b[0m\u001b[1;33m.\u001b[0m\u001b[0m_engine\u001b[0m\u001b[1;33m.\u001b[0m\u001b[0mget_loc\u001b[0m\u001b[1;33m(\u001b[0m\u001b[0mcasted_key\u001b[0m\u001b[1;33m)\u001b[0m\u001b[1;33m\u001b[0m\u001b[1;33m\u001b[0m\u001b[0m\n\u001b[0m\u001b[0;32m   3362\u001b[0m             \u001b[1;32mexcept\u001b[0m \u001b[0mKeyError\u001b[0m \u001b[1;32mas\u001b[0m \u001b[0merr\u001b[0m\u001b[1;33m:\u001b[0m\u001b[1;33m\u001b[0m\u001b[1;33m\u001b[0m\u001b[0m\n",
      "\u001b[1;32m~\\anaconda3\\lib\\site-packages\\pandas\\_libs\\index.pyx\u001b[0m in \u001b[0;36mpandas._libs.index.IndexEngine.get_loc\u001b[1;34m()\u001b[0m\n",
      "\u001b[1;32m~\\anaconda3\\lib\\site-packages\\pandas\\_libs\\index.pyx\u001b[0m in \u001b[0;36mpandas._libs.index.IndexEngine.get_loc\u001b[1;34m()\u001b[0m\n",
      "\u001b[1;32mpandas\\_libs\\hashtable_class_helper.pxi\u001b[0m in \u001b[0;36mpandas._libs.hashtable.PyObjectHashTable.get_item\u001b[1;34m()\u001b[0m\n",
      "\u001b[1;32mpandas\\_libs\\hashtable_class_helper.pxi\u001b[0m in \u001b[0;36mpandas._libs.hashtable.PyObjectHashTable.get_item\u001b[1;34m()\u001b[0m\n",
      "\u001b[1;31mKeyError\u001b[0m: 'location_type'",
      "\nThe above exception was the direct cause of the following exception:\n",
      "\u001b[1;31mKeyError\u001b[0m                                  Traceback (most recent call last)",
      "\u001b[1;32m~\\AppData\\Local\\Temp/ipykernel_17664/3314161416.py\u001b[0m in \u001b[0;36m<module>\u001b[1;34m\u001b[0m\n\u001b[1;32m----> 1\u001b[1;33m \u001b[0mdf\u001b[0m\u001b[1;33m[\u001b[0m\u001b[1;34m\"location_type\"\u001b[0m\u001b[1;33m]\u001b[0m\u001b[1;33m.\u001b[0m\u001b[0munique\u001b[0m\u001b[1;33m(\u001b[0m\u001b[1;33m)\u001b[0m\u001b[1;33m\u001b[0m\u001b[1;33m\u001b[0m\u001b[0m\n\u001b[0m",
      "\u001b[1;32m~\\anaconda3\\lib\\site-packages\\pandas\\core\\frame.py\u001b[0m in \u001b[0;36m__getitem__\u001b[1;34m(self, key)\u001b[0m\n\u001b[0;32m   3456\u001b[0m             \u001b[1;32mif\u001b[0m \u001b[0mself\u001b[0m\u001b[1;33m.\u001b[0m\u001b[0mcolumns\u001b[0m\u001b[1;33m.\u001b[0m\u001b[0mnlevels\u001b[0m \u001b[1;33m>\u001b[0m \u001b[1;36m1\u001b[0m\u001b[1;33m:\u001b[0m\u001b[1;33m\u001b[0m\u001b[1;33m\u001b[0m\u001b[0m\n\u001b[0;32m   3457\u001b[0m                 \u001b[1;32mreturn\u001b[0m \u001b[0mself\u001b[0m\u001b[1;33m.\u001b[0m\u001b[0m_getitem_multilevel\u001b[0m\u001b[1;33m(\u001b[0m\u001b[0mkey\u001b[0m\u001b[1;33m)\u001b[0m\u001b[1;33m\u001b[0m\u001b[1;33m\u001b[0m\u001b[0m\n\u001b[1;32m-> 3458\u001b[1;33m             \u001b[0mindexer\u001b[0m \u001b[1;33m=\u001b[0m \u001b[0mself\u001b[0m\u001b[1;33m.\u001b[0m\u001b[0mcolumns\u001b[0m\u001b[1;33m.\u001b[0m\u001b[0mget_loc\u001b[0m\u001b[1;33m(\u001b[0m\u001b[0mkey\u001b[0m\u001b[1;33m)\u001b[0m\u001b[1;33m\u001b[0m\u001b[1;33m\u001b[0m\u001b[0m\n\u001b[0m\u001b[0;32m   3459\u001b[0m             \u001b[1;32mif\u001b[0m \u001b[0mis_integer\u001b[0m\u001b[1;33m(\u001b[0m\u001b[0mindexer\u001b[0m\u001b[1;33m)\u001b[0m\u001b[1;33m:\u001b[0m\u001b[1;33m\u001b[0m\u001b[1;33m\u001b[0m\u001b[0m\n\u001b[0;32m   3460\u001b[0m                 \u001b[0mindexer\u001b[0m \u001b[1;33m=\u001b[0m \u001b[1;33m[\u001b[0m\u001b[0mindexer\u001b[0m\u001b[1;33m]\u001b[0m\u001b[1;33m\u001b[0m\u001b[1;33m\u001b[0m\u001b[0m\n",
      "\u001b[1;32m~\\anaconda3\\lib\\site-packages\\pandas\\core\\indexes\\base.py\u001b[0m in \u001b[0;36mget_loc\u001b[1;34m(self, key, method, tolerance)\u001b[0m\n\u001b[0;32m   3361\u001b[0m                 \u001b[1;32mreturn\u001b[0m \u001b[0mself\u001b[0m\u001b[1;33m.\u001b[0m\u001b[0m_engine\u001b[0m\u001b[1;33m.\u001b[0m\u001b[0mget_loc\u001b[0m\u001b[1;33m(\u001b[0m\u001b[0mcasted_key\u001b[0m\u001b[1;33m)\u001b[0m\u001b[1;33m\u001b[0m\u001b[1;33m\u001b[0m\u001b[0m\n\u001b[0;32m   3362\u001b[0m             \u001b[1;32mexcept\u001b[0m \u001b[0mKeyError\u001b[0m \u001b[1;32mas\u001b[0m \u001b[0merr\u001b[0m\u001b[1;33m:\u001b[0m\u001b[1;33m\u001b[0m\u001b[1;33m\u001b[0m\u001b[0m\n\u001b[1;32m-> 3363\u001b[1;33m                 \u001b[1;32mraise\u001b[0m \u001b[0mKeyError\u001b[0m\u001b[1;33m(\u001b[0m\u001b[0mkey\u001b[0m\u001b[1;33m)\u001b[0m \u001b[1;32mfrom\u001b[0m \u001b[0merr\u001b[0m\u001b[1;33m\u001b[0m\u001b[1;33m\u001b[0m\u001b[0m\n\u001b[0m\u001b[0;32m   3364\u001b[0m \u001b[1;33m\u001b[0m\u001b[0m\n\u001b[0;32m   3365\u001b[0m         \u001b[1;32mif\u001b[0m \u001b[0mis_scalar\u001b[0m\u001b[1;33m(\u001b[0m\u001b[0mkey\u001b[0m\u001b[1;33m)\u001b[0m \u001b[1;32mand\u001b[0m \u001b[0misna\u001b[0m\u001b[1;33m(\u001b[0m\u001b[0mkey\u001b[0m\u001b[1;33m)\u001b[0m \u001b[1;32mand\u001b[0m \u001b[1;32mnot\u001b[0m \u001b[0mself\u001b[0m\u001b[1;33m.\u001b[0m\u001b[0mhasnans\u001b[0m\u001b[1;33m:\u001b[0m\u001b[1;33m\u001b[0m\u001b[1;33m\u001b[0m\u001b[0m\n",
      "\u001b[1;31mKeyError\u001b[0m: 'location_type'"
     ]
    }
   ],
   "source": [
    "df[\"location_type\"].unique()"
   ]
  },
  {
   "cell_type": "code",
   "execution_count": 57,
   "id": "cab2aa0e",
   "metadata": {},
   "outputs": [
    {
     "ename": "KeyError",
     "evalue": "'location_type'",
     "output_type": "error",
     "traceback": [
      "\u001b[1;31m---------------------------------------------------------------------------\u001b[0m",
      "\u001b[1;31mKeyError\u001b[0m                                  Traceback (most recent call last)",
      "\u001b[1;32m~\\anaconda3\\lib\\site-packages\\pandas\\core\\indexes\\base.py\u001b[0m in \u001b[0;36mget_loc\u001b[1;34m(self, key, method, tolerance)\u001b[0m\n\u001b[0;32m   3360\u001b[0m             \u001b[1;32mtry\u001b[0m\u001b[1;33m:\u001b[0m\u001b[1;33m\u001b[0m\u001b[1;33m\u001b[0m\u001b[0m\n\u001b[1;32m-> 3361\u001b[1;33m                 \u001b[1;32mreturn\u001b[0m \u001b[0mself\u001b[0m\u001b[1;33m.\u001b[0m\u001b[0m_engine\u001b[0m\u001b[1;33m.\u001b[0m\u001b[0mget_loc\u001b[0m\u001b[1;33m(\u001b[0m\u001b[0mcasted_key\u001b[0m\u001b[1;33m)\u001b[0m\u001b[1;33m\u001b[0m\u001b[1;33m\u001b[0m\u001b[0m\n\u001b[0m\u001b[0;32m   3362\u001b[0m             \u001b[1;32mexcept\u001b[0m \u001b[0mKeyError\u001b[0m \u001b[1;32mas\u001b[0m \u001b[0merr\u001b[0m\u001b[1;33m:\u001b[0m\u001b[1;33m\u001b[0m\u001b[1;33m\u001b[0m\u001b[0m\n",
      "\u001b[1;32m~\\anaconda3\\lib\\site-packages\\pandas\\_libs\\index.pyx\u001b[0m in \u001b[0;36mpandas._libs.index.IndexEngine.get_loc\u001b[1;34m()\u001b[0m\n",
      "\u001b[1;32m~\\anaconda3\\lib\\site-packages\\pandas\\_libs\\index.pyx\u001b[0m in \u001b[0;36mpandas._libs.index.IndexEngine.get_loc\u001b[1;34m()\u001b[0m\n",
      "\u001b[1;32mpandas\\_libs\\hashtable_class_helper.pxi\u001b[0m in \u001b[0;36mpandas._libs.hashtable.PyObjectHashTable.get_item\u001b[1;34m()\u001b[0m\n",
      "\u001b[1;32mpandas\\_libs\\hashtable_class_helper.pxi\u001b[0m in \u001b[0;36mpandas._libs.hashtable.PyObjectHashTable.get_item\u001b[1;34m()\u001b[0m\n",
      "\u001b[1;31mKeyError\u001b[0m: 'location_type'",
      "\nThe above exception was the direct cause of the following exception:\n",
      "\u001b[1;31mKeyError\u001b[0m                                  Traceback (most recent call last)",
      "\u001b[1;32m~\\AppData\\Local\\Temp/ipykernel_17664/209192189.py\u001b[0m in \u001b[0;36m<module>\u001b[1;34m\u001b[0m\n\u001b[1;32m----> 1\u001b[1;33m \u001b[0mlocation\u001b[0m \u001b[1;33m=\u001b[0m \u001b[0mpd\u001b[0m\u001b[1;33m.\u001b[0m\u001b[0mget_dummies\u001b[0m\u001b[1;33m(\u001b[0m\u001b[0mdf\u001b[0m\u001b[1;33m[\u001b[0m\u001b[1;34m'location_type'\u001b[0m\u001b[1;33m]\u001b[0m\u001b[1;33m)\u001b[0m\u001b[1;33m\u001b[0m\u001b[1;33m\u001b[0m\u001b[0m\n\u001b[0m\u001b[0;32m      2\u001b[0m \u001b[0mdf\u001b[0m \u001b[1;33m=\u001b[0m \u001b[0mpd\u001b[0m\u001b[1;33m.\u001b[0m\u001b[0mconcat\u001b[0m\u001b[1;33m(\u001b[0m\u001b[1;33m[\u001b[0m\u001b[0mdf\u001b[0m\u001b[1;33m,\u001b[0m \u001b[0mlocation\u001b[0m\u001b[1;33m]\u001b[0m\u001b[1;33m,\u001b[0m \u001b[0maxis\u001b[0m\u001b[1;33m=\u001b[0m\u001b[1;36m1\u001b[0m\u001b[1;33m)\u001b[0m\u001b[1;33m\u001b[0m\u001b[1;33m\u001b[0m\u001b[0m\n\u001b[0;32m      3\u001b[0m \u001b[0mdf\u001b[0m\u001b[1;33m.\u001b[0m\u001b[0mdrop\u001b[0m\u001b[1;33m(\u001b[0m\u001b[1;33m[\u001b[0m\u001b[1;34m'location_type'\u001b[0m\u001b[1;33m,\u001b[0m \u001b[1;34m'Rural'\u001b[0m\u001b[1;33m]\u001b[0m\u001b[1;33m,\u001b[0m \u001b[0minplace\u001b[0m \u001b[1;33m=\u001b[0m \u001b[1;32mTrue\u001b[0m\u001b[1;33m,\u001b[0m \u001b[0maxis\u001b[0m \u001b[1;33m=\u001b[0m \u001b[1;36m1\u001b[0m\u001b[1;33m)\u001b[0m\u001b[1;33m\u001b[0m\u001b[1;33m\u001b[0m\u001b[0m\n\u001b[0;32m      4\u001b[0m \u001b[0mdf\u001b[0m\u001b[1;33m.\u001b[0m\u001b[0mhead\u001b[0m\u001b[1;33m(\u001b[0m\u001b[1;33m)\u001b[0m\u001b[1;33m\u001b[0m\u001b[1;33m\u001b[0m\u001b[0m\n",
      "\u001b[1;32m~\\anaconda3\\lib\\site-packages\\pandas\\core\\frame.py\u001b[0m in \u001b[0;36m__getitem__\u001b[1;34m(self, key)\u001b[0m\n\u001b[0;32m   3456\u001b[0m             \u001b[1;32mif\u001b[0m \u001b[0mself\u001b[0m\u001b[1;33m.\u001b[0m\u001b[0mcolumns\u001b[0m\u001b[1;33m.\u001b[0m\u001b[0mnlevels\u001b[0m \u001b[1;33m>\u001b[0m \u001b[1;36m1\u001b[0m\u001b[1;33m:\u001b[0m\u001b[1;33m\u001b[0m\u001b[1;33m\u001b[0m\u001b[0m\n\u001b[0;32m   3457\u001b[0m                 \u001b[1;32mreturn\u001b[0m \u001b[0mself\u001b[0m\u001b[1;33m.\u001b[0m\u001b[0m_getitem_multilevel\u001b[0m\u001b[1;33m(\u001b[0m\u001b[0mkey\u001b[0m\u001b[1;33m)\u001b[0m\u001b[1;33m\u001b[0m\u001b[1;33m\u001b[0m\u001b[0m\n\u001b[1;32m-> 3458\u001b[1;33m             \u001b[0mindexer\u001b[0m \u001b[1;33m=\u001b[0m \u001b[0mself\u001b[0m\u001b[1;33m.\u001b[0m\u001b[0mcolumns\u001b[0m\u001b[1;33m.\u001b[0m\u001b[0mget_loc\u001b[0m\u001b[1;33m(\u001b[0m\u001b[0mkey\u001b[0m\u001b[1;33m)\u001b[0m\u001b[1;33m\u001b[0m\u001b[1;33m\u001b[0m\u001b[0m\n\u001b[0m\u001b[0;32m   3459\u001b[0m             \u001b[1;32mif\u001b[0m \u001b[0mis_integer\u001b[0m\u001b[1;33m(\u001b[0m\u001b[0mindexer\u001b[0m\u001b[1;33m)\u001b[0m\u001b[1;33m:\u001b[0m\u001b[1;33m\u001b[0m\u001b[1;33m\u001b[0m\u001b[0m\n\u001b[0;32m   3460\u001b[0m                 \u001b[0mindexer\u001b[0m \u001b[1;33m=\u001b[0m \u001b[1;33m[\u001b[0m\u001b[0mindexer\u001b[0m\u001b[1;33m]\u001b[0m\u001b[1;33m\u001b[0m\u001b[1;33m\u001b[0m\u001b[0m\n",
      "\u001b[1;32m~\\anaconda3\\lib\\site-packages\\pandas\\core\\indexes\\base.py\u001b[0m in \u001b[0;36mget_loc\u001b[1;34m(self, key, method, tolerance)\u001b[0m\n\u001b[0;32m   3361\u001b[0m                 \u001b[1;32mreturn\u001b[0m \u001b[0mself\u001b[0m\u001b[1;33m.\u001b[0m\u001b[0m_engine\u001b[0m\u001b[1;33m.\u001b[0m\u001b[0mget_loc\u001b[0m\u001b[1;33m(\u001b[0m\u001b[0mcasted_key\u001b[0m\u001b[1;33m)\u001b[0m\u001b[1;33m\u001b[0m\u001b[1;33m\u001b[0m\u001b[0m\n\u001b[0;32m   3362\u001b[0m             \u001b[1;32mexcept\u001b[0m \u001b[0mKeyError\u001b[0m \u001b[1;32mas\u001b[0m \u001b[0merr\u001b[0m\u001b[1;33m:\u001b[0m\u001b[1;33m\u001b[0m\u001b[1;33m\u001b[0m\u001b[0m\n\u001b[1;32m-> 3363\u001b[1;33m                 \u001b[1;32mraise\u001b[0m \u001b[0mKeyError\u001b[0m\u001b[1;33m(\u001b[0m\u001b[0mkey\u001b[0m\u001b[1;33m)\u001b[0m \u001b[1;32mfrom\u001b[0m \u001b[0merr\u001b[0m\u001b[1;33m\u001b[0m\u001b[1;33m\u001b[0m\u001b[0m\n\u001b[0m\u001b[0;32m   3364\u001b[0m \u001b[1;33m\u001b[0m\u001b[0m\n\u001b[0;32m   3365\u001b[0m         \u001b[1;32mif\u001b[0m \u001b[0mis_scalar\u001b[0m\u001b[1;33m(\u001b[0m\u001b[0mkey\u001b[0m\u001b[1;33m)\u001b[0m \u001b[1;32mand\u001b[0m \u001b[0misna\u001b[0m\u001b[1;33m(\u001b[0m\u001b[0mkey\u001b[0m\u001b[1;33m)\u001b[0m \u001b[1;32mand\u001b[0m \u001b[1;32mnot\u001b[0m \u001b[0mself\u001b[0m\u001b[1;33m.\u001b[0m\u001b[0mhasnans\u001b[0m\u001b[1;33m:\u001b[0m\u001b[1;33m\u001b[0m\u001b[1;33m\u001b[0m\u001b[0m\n",
      "\u001b[1;31mKeyError\u001b[0m: 'location_type'"
     ]
    }
   ],
   "source": [
    "location = pd.get_dummies(df['location_type'])\n",
    "df = pd.concat([df, location], axis=1)\n",
    "df.drop(['location_type', 'Rural'], inplace = True, axis = 1)\n"
   ]
  },
  {
   "cell_type": "code",
   "execution_count": 53,
   "id": "a7a19c58",
   "metadata": {},
   "outputs": [
    {
     "data": {
      "text/html": [
       "<div>\n",
       "<style scoped>\n",
       "    .dataframe tbody tr th:only-of-type {\n",
       "        vertical-align: middle;\n",
       "    }\n",
       "\n",
       "    .dataframe tbody tr th {\n",
       "        vertical-align: top;\n",
       "    }\n",
       "\n",
       "    .dataframe thead th {\n",
       "        text-align: right;\n",
       "    }\n",
       "</style>\n",
       "<table border=\"1\" class=\"dataframe\">\n",
       "  <thead>\n",
       "    <tr style=\"text-align: right;\">\n",
       "      <th></th>\n",
       "      <th>country</th>\n",
       "      <th>year</th>\n",
       "      <th>uniqueid</th>\n",
       "      <th>bank_account</th>\n",
       "      <th>cellphone_access</th>\n",
       "      <th>household_size</th>\n",
       "      <th>age_of_respondent</th>\n",
       "      <th>gender_of_respondent</th>\n",
       "      <th>relationship_with_head</th>\n",
       "      <th>marital_status</th>\n",
       "      <th>education_level</th>\n",
       "      <th>job_type</th>\n",
       "      <th>Urban</th>\n",
       "    </tr>\n",
       "  </thead>\n",
       "  <tbody>\n",
       "    <tr>\n",
       "      <th>0</th>\n",
       "      <td>Kenya</td>\n",
       "      <td>2018</td>\n",
       "      <td>uniqueid_1</td>\n",
       "      <td>1</td>\n",
       "      <td>Yes</td>\n",
       "      <td>3</td>\n",
       "      <td>24</td>\n",
       "      <td>Female</td>\n",
       "      <td>Spouse</td>\n",
       "      <td>Married/Living together</td>\n",
       "      <td>Secondary education</td>\n",
       "      <td>Self employed</td>\n",
       "      <td>0</td>\n",
       "    </tr>\n",
       "    <tr>\n",
       "      <th>1</th>\n",
       "      <td>Kenya</td>\n",
       "      <td>2018</td>\n",
       "      <td>uniqueid_2</td>\n",
       "      <td>0</td>\n",
       "      <td>No</td>\n",
       "      <td>5</td>\n",
       "      <td>70</td>\n",
       "      <td>Female</td>\n",
       "      <td>Head of Household</td>\n",
       "      <td>Widowed</td>\n",
       "      <td>No formal education</td>\n",
       "      <td>Government Dependent</td>\n",
       "      <td>0</td>\n",
       "    </tr>\n",
       "    <tr>\n",
       "      <th>2</th>\n",
       "      <td>Kenya</td>\n",
       "      <td>2018</td>\n",
       "      <td>uniqueid_3</td>\n",
       "      <td>1</td>\n",
       "      <td>Yes</td>\n",
       "      <td>5</td>\n",
       "      <td>26</td>\n",
       "      <td>Male</td>\n",
       "      <td>Other relative</td>\n",
       "      <td>Single/Never Married</td>\n",
       "      <td>Vocational/Specialised training</td>\n",
       "      <td>Self employed</td>\n",
       "      <td>1</td>\n",
       "    </tr>\n",
       "    <tr>\n",
       "      <th>3</th>\n",
       "      <td>Kenya</td>\n",
       "      <td>2018</td>\n",
       "      <td>uniqueid_4</td>\n",
       "      <td>0</td>\n",
       "      <td>Yes</td>\n",
       "      <td>5</td>\n",
       "      <td>34</td>\n",
       "      <td>Female</td>\n",
       "      <td>Head of Household</td>\n",
       "      <td>Married/Living together</td>\n",
       "      <td>Primary education</td>\n",
       "      <td>Formally employed Private</td>\n",
       "      <td>0</td>\n",
       "    </tr>\n",
       "    <tr>\n",
       "      <th>4</th>\n",
       "      <td>Kenya</td>\n",
       "      <td>2018</td>\n",
       "      <td>uniqueid_5</td>\n",
       "      <td>0</td>\n",
       "      <td>No</td>\n",
       "      <td>8</td>\n",
       "      <td>26</td>\n",
       "      <td>Male</td>\n",
       "      <td>Child</td>\n",
       "      <td>Single/Never Married</td>\n",
       "      <td>Primary education</td>\n",
       "      <td>Informally employed</td>\n",
       "      <td>1</td>\n",
       "    </tr>\n",
       "  </tbody>\n",
       "</table>\n",
       "</div>"
      ],
      "text/plain": [
       "  country  year    uniqueid  bank_account cellphone_access  household_size  \\\n",
       "0   Kenya  2018  uniqueid_1             1              Yes               3   \n",
       "1   Kenya  2018  uniqueid_2             0               No               5   \n",
       "2   Kenya  2018  uniqueid_3             1              Yes               5   \n",
       "3   Kenya  2018  uniqueid_4             0              Yes               5   \n",
       "4   Kenya  2018  uniqueid_5             0               No               8   \n",
       "\n",
       "   age_of_respondent gender_of_respondent relationship_with_head  \\\n",
       "0                 24               Female                 Spouse   \n",
       "1                 70               Female      Head of Household   \n",
       "2                 26                 Male         Other relative   \n",
       "3                 34               Female      Head of Household   \n",
       "4                 26                 Male                  Child   \n",
       "\n",
       "            marital_status                  education_level  \\\n",
       "0  Married/Living together              Secondary education   \n",
       "1                  Widowed              No formal education   \n",
       "2     Single/Never Married  Vocational/Specialised training   \n",
       "3  Married/Living together                Primary education   \n",
       "4     Single/Never Married                Primary education   \n",
       "\n",
       "                    job_type  Urban  \n",
       "0              Self employed      0  \n",
       "1       Government Dependent      0  \n",
       "2              Self employed      1  \n",
       "3  Formally employed Private      0  \n",
       "4        Informally employed      1  "
      ]
     },
     "execution_count": 53,
     "metadata": {},
     "output_type": "execute_result"
    }
   ],
   "source": [
    "df.head()"
   ]
  }
 ],
 "metadata": {
  "kernelspec": {
   "display_name": "Python 3 (ipykernel)",
   "language": "python",
   "name": "python3"
  },
  "language_info": {
   "codemirror_mode": {
    "name": "ipython",
    "version": 3
   },
   "file_extension": ".py",
   "mimetype": "text/x-python",
   "name": "python",
   "nbconvert_exporter": "python",
   "pygments_lexer": "ipython3",
   "version": "3.9.7"
  }
 },
 "nbformat": 4,
 "nbformat_minor": 5
}
