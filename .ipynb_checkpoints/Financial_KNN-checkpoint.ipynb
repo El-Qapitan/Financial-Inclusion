{
 "cells": [
  {
   "cell_type": "markdown",
   "id": "7b91f7c2",
   "metadata": {},
   "source": [
    "### KNN"
   ]
  },
  {
   "cell_type": "markdown",
   "id": "2a06b72d",
   "metadata": {},
   "source": [
    "The k-Nearest Neighbors algorithm or KNN for short is a very simple technique.\n",
    "\n",
    "The entire training dataset is stored. When a prediction is required, the k-most similar records to a new record from the training dataset are then located. From these neighbors, a summarized prediction is made.\n",
    "\n",
    "Similarity between records can be measured many different ways. A problem or data-specific method can be used. Generally, with tabular data, a good starting point is the Euclidean distance.\n",
    "\n",
    "Once the neighbors are discovered, the summary prediction can be made by returning the most common outcome or taking the average. As such, KNN can be used for classification or regression problems.\n",
    "\n",
    "There is no model to speak of other than holding the entire training dataset. Because no work is done until a prediction is required, KNN is often referred to as a lazy learning method."
   ]
  },
  {
   "cell_type": "markdown",
   "id": "4754fc5c",
   "metadata": {},
   "source": [
    "### Steps to Implement KNN"
   ]
  },
  {
   "cell_type": "raw",
   "id": "f6339619",
   "metadata": {},
   "source": [
    "Step 1: Calculate Euclidean Distance.\n",
    "Step 2: Get Nearest Neighbors.\n",
    "Step 3: Make Predictions."
   ]
  },
  {
   "cell_type": "raw",
   "id": "cea38b1f",
   "metadata": {},
   "source": [
    "Step 1: Calculate Euclidean Distance\n",
    "The first step is to calculate the distance between two rows in a dataset.\n",
    "\n",
    "Rows of data are mostly made up of numbers and an easy way to calculate the distance between two rows or vectors of numbers is to draw a straight line. This makes sense in 2D or 3D and scales nicely to higher dimensions.\n",
    "\n",
    "We can calculate the straight line distance between two vectors using the Euclidean distance measure. It is calculated as the square root of the sum of the squared differences between the two vectors.\n",
    "\n",
    "Euclidean Distance = sqrt(sum i to N (x1_i – x2_i)^2)\n",
    "Where x1 is the first row of data, x2 is the second row of data and i is the index to a specific column as we sum across all columns.\n",
    "\n",
    "With Euclidean distance, the smaller the value, the more similar two records will be. A value of 0 means that there is no difference between two records.\n",
    "\n",
    "Below is a function named euclidean_distance() that implements this in Python.\n",
    "\n"
   ]
  },
  {
   "cell_type": "code",
   "execution_count": 1,
   "id": "67a7bd83",
   "metadata": {},
   "outputs": [],
   "source": [
    "# calculate the Euclidean distance between two vectors\n",
    "def euclidean_distance(row1, row2):\n",
    "\tdistance = 0.0\n",
    "\tfor i in range(len(row1)-1):\n",
    "\t\tdistance += (row1[i] - row2[i])**2\n",
    "\treturn sqrt(distance)"
   ]
  },
  {
   "cell_type": "raw",
   "id": "74384794",
   "metadata": {},
   "source": [
    "X1\t\t\t\t\t\tX2\t\t\t\t\t\t\tY\n",
    "2.7810836\t\t\t2.550537003\t\t\t0\n",
    "1.465489372\t\t2.362125076\t\t\t0\n",
    "3.396561688\t\t4.400293529\t\t\t0\n",
    "1.38807019\t\t1.850220317\t\t\t0\n",
    "3.06407232\t\t3.005305973\t\t\t0\n",
    "7.627531214\t\t2.759262235\t\t\t1\n",
    "5.332441248\t\t2.088626775\t\t\t1\n",
    "6.922596716\t\t1.77106367\t\t\t1\n",
    "8.675418651\t\t-0.242068655\t\t1\n",
    "7.673756466\t\t3.508563011\t\t\t1"
   ]
  },
  {
   "cell_type": "code",
   "execution_count": 2,
   "id": "0e14c77a",
   "metadata": {},
   "outputs": [
    {
     "name": "stdout",
     "output_type": "stream",
     "text": [
      "4.850940186986411\n",
      "6.174826117844725\n",
      "4.538070827766793\n",
      "6.305333542224095\n",
      "4.570086935522859\n",
      "0.0\n",
      "2.3910645897263616\n",
      "1.2138653345155597\n",
      "3.1790022321304874\n",
      "0.7507252672160873\n"
     ]
    }
   ],
   "source": [
    "# Example of calculating Euclidean distance\n",
    "from math import sqrt\n",
    "\n",
    "# calculate the Euclidean distance between two vectors\n",
    "def euclidean_distance(row1, row2):\n",
    "\tdistance = 0.0\n",
    "\tfor i in range(len(row1)-1):\n",
    "\t\tdistance += (row1[i] - row2[i])**2\n",
    "\treturn sqrt(distance)\n",
    "\n",
    "# Test distance function\n",
    "dataset = [[2.7810836,2.550537003,0],\n",
    "\t[1.465489372,2.362125076,0],\n",
    "\t[3.396561688,4.400293529,0],\n",
    "\t[1.38807019,1.850220317,0],\n",
    "\t[3.06407232,3.005305973,0],\n",
    "\t[7.627531214,2.759262235,1],\n",
    "\t[5.332441248,2.088626775,1],\n",
    "\t[6.922596716,1.77106367,1],\n",
    "\t[8.675418651,-0.242068655,1],\n",
    "\t[7.673756466,3.508563011,1]]\n",
    "row0 = dataset[5]\n",
    "for row in dataset:\n",
    "\tdistance = euclidean_distance(row0, row)\n",
    "\tprint(distance)"
   ]
  },
  {
   "cell_type": "markdown",
   "id": "a266f9c9",
   "metadata": {},
   "source": [
    "### Get the nearest neighbors"
   ]
  },
  {
   "cell_type": "markdown",
   "id": "ed0234b7",
   "metadata": {},
   "source": [
    "Neighbors for a new piece of data in the dataset are the k closest instances, as defined by our distance measure.\n",
    "\n",
    "To locate the neighbors for a new piece of data within a dataset we must first calculate the distance between each record in the dataset to the new piece of data. We can do this using our distance function prepared above.\n",
    "\n",
    "Once distances are calculated, we must sort all of the records in the training dataset by their distance to the new data. We can then select the top k to return as the most similar neighbors.\n",
    "\n",
    "We can do this by keeping track of the distance for each record in the dataset as a tuple, sort the list of tuples by the distance (in descending order) and then retrieve the neighbors.\n",
    "\n",
    "Below is a function named get_neighbors() that implements this.\n",
    "\n"
   ]
  },
  {
   "cell_type": "code",
   "execution_count": 3,
   "id": "0d17bd0d",
   "metadata": {},
   "outputs": [],
   "source": [
    "# Locate the most similar neighbors\n",
    "def get_neighbors(train, test_row, num_neighbors):\n",
    "\tdistances = list()\n",
    "\tfor train_row in train:\n",
    "\t\tdist = euclidean_distance(test_row, train_row)\n",
    "\t\tdistances.append((train_row, dist))\n",
    "\tdistances.sort(key=lambda tup: tup[1])\n",
    "\tneighbors = list()\n",
    "\tfor i in range(num_neighbors):\n",
    "\t\tneighbors.append(distances[i][0])\n",
    "\treturn neighbors"
   ]
  },
  {
   "cell_type": "markdown",
   "id": "8d90c80f",
   "metadata": {},
   "source": [
    "You can see that the euclidean_distance() function developed in the previous step is used to calculate the distance between each train_row and the new test_row.\n",
    "\n",
    "The list of train_row and distance tuples is sorted where a custom key is used ensuring that the second item in the tuple (tup[1]) is used in the sorting operation.\n",
    "\n",
    "Finally, a list of the num_neighbors most similar neighbors to test_row is returned.\n",
    "\n",
    "We can test this function with the small contrived dataset prepared in the previous section"
   ]
  },
  {
   "cell_type": "code",
   "execution_count": 4,
   "id": "c4b60bb8",
   "metadata": {},
   "outputs": [
    {
     "name": "stdout",
     "output_type": "stream",
     "text": [
      "These are my neighbors: [[2.7810836, 2.550537003, 0], [3.06407232, 3.005305973, 0], [1.465489372, 2.362125076, 0]]\n",
      "These are my neighbors: [[2.7810836, 2.550537003, 0], [3.06407232, 3.005305973, 0], [1.465489372, 2.362125076, 0]]\n",
      "These are my neighbors: [[2.7810836, 2.550537003, 0], [3.06407232, 3.005305973, 0], [1.465489372, 2.362125076, 0]]\n"
     ]
    }
   ],
   "source": [
    "# Example of getting neighbors for an instance\n",
    "from math import sqrt\n",
    "\n",
    "# calculate the Euclidean distance between two vectors\n",
    "def euclidean_distance(row1, row2):\n",
    "\tdistance = 0.0\n",
    "\tfor i in range(len(row1)-1):\n",
    "\t\tdistance += (row1[i] - row2[i])**2\n",
    "\treturn sqrt(distance)\n",
    "\n",
    "# Locate the most similar neighbors\n",
    "def get_neighbors(train, test_row, num_neighbors):\n",
    "\tdistances = list()\n",
    "    \n",
    "\tfor train_row in train:\n",
    "\t\tdist = euclidean_distance(test_row, train_row)\n",
    "\t\tdistances.append((train_row, dist))\n",
    "    \n",
    "\tdistances.sort(key=lambda tup: tup[1])\n",
    "\tneighbors = list()\n",
    "\tfor i in range(num_neighbors):\n",
    "\t\tneighbors.append(distances[i][0])\n",
    "\treturn neighbors\n",
    "   \n",
    "\n",
    "# Test distance function\n",
    "dataset = [[2.7810836,2.550537003,0],\n",
    "\t[1.465489372,2.362125076,0],\n",
    "\t[3.396561688,4.400293529,0],\n",
    "\t[1.38807019,1.850220317,0],\n",
    "\t[3.06407232,3.005305973,0],\n",
    "\t[7.627531214,2.759262235,1],\n",
    "\t[5.332441248,2.088626775,1],\n",
    "\t[6.922596716,1.77106367,1],\n",
    "\t[8.675418651,-0.242068655,1],\n",
    "\t[7.673756466,3.508563011,1]]\n",
    "neighbors = get_neighbors(dataset, dataset[0], 3)\n",
    "# print(\"These are my distance: \" distances)\n",
    "for neighbor in neighbors:\n",
    "\tprint(\"These are my neighbors: {}\".format(neighbors))"
   ]
  },
  {
   "cell_type": "markdown",
   "id": "94b5c84b",
   "metadata": {},
   "source": [
    "### Make Predictions"
   ]
  },
  {
   "cell_type": "raw",
   "id": "68b81828",
   "metadata": {},
   "source": [
    "The most similar neighbors collected from the training dataset can be used to make predictions.\n",
    "\n",
    "In the case of classification, we can return the most represented class among the neighbors.\n",
    "\n",
    "We can achieve this by performing the max() function on the list of output values from the neighbors. Given a list of class values observed in the neighbors, the max() function takes a set of unique class values and calls the count on the list of class values for each class value in the set.\n",
    "\n",
    "Below is the function named predict_classification() that implements this."
   ]
  },
  {
   "cell_type": "code",
   "execution_count": 5,
   "id": "b9851902",
   "metadata": {},
   "outputs": [],
   "source": [
    "# Make a classification prediction with neighbors\n",
    "def predict_classification(train, test_row, num_neighbors):\n",
    "\tneighbors = get_neighbors(train, test_row, num_neighbors)\n",
    "\toutput_values = [row[-1] for row in neighbors]\n",
    "\tprediction = max(set(output_values), key=output_values.count)\n",
    "\treturn prediction"
   ]
  },
  {
   "cell_type": "code",
   "execution_count": 6,
   "id": "3204da08",
   "metadata": {},
   "outputs": [
    {
     "name": "stdout",
     "output_type": "stream",
     "text": [
      "Expected 0, Got 0.\n"
     ]
    }
   ],
   "source": [
    "# Example of making predictions\n",
    "from math import sqrt\n",
    "\n",
    "# calculate the Euclidean distance between two vectors\n",
    "def euclidean_distance(row1, row2):\n",
    "\tdistance = 0.0\n",
    "\tfor i in range(len(row1)-1):\n",
    "\t\tdistance += (row1[i] - row2[i])**2\n",
    "\treturn sqrt(distance)\n",
    "\n",
    "# Locate the most similar neighbors\n",
    "def get_neighbors(train, test_row, num_neighbors):\n",
    "\tdistances = list()\n",
    "\tfor train_row in train:\n",
    "\t\tdist = euclidean_distance(test_row, train_row)\n",
    "\t\tdistances.append((train_row, dist))\n",
    "\tdistances.sort(key=lambda tup: tup[1])\n",
    "\tneighbors = list()\n",
    "\tfor i in range(num_neighbors):\n",
    "\t\tneighbors.append(distances[i][0])\n",
    "\treturn neighbors\n",
    "\n",
    "# Make a classification prediction with neighbors\n",
    "def predict_classification(train, test_row, num_neighbors):\n",
    "\tneighbors = get_neighbors(train, test_row, num_neighbors)\n",
    "\toutput_values = [row[-1] for row in neighbors]\n",
    "\tprediction = max(set(output_values), key=output_values.count)\n",
    "\treturn prediction\n",
    "\n",
    "# Test distance function\n",
    "dataset = [[2.7810836,2.550537003,0],\n",
    "\t[1.465489372,2.362125076,0],\n",
    "\t[3.396561688,4.400293529,0],\n",
    "\t[1.38807019,1.850220317,0],\n",
    "\t[3.06407232,3.005305973,0],\n",
    "\t[7.627531214,2.759262235,1],\n",
    "\t[5.332441248,2.088626775,1],\n",
    "\t[6.922596716,1.77106367,1],\n",
    "\t[8.675418651,-0.242068655,1],\n",
    "\t[7.673756466,3.508563011,1]]\n",
    "prediction = predict_classification(dataset, dataset[0], 3)\n",
    "print('Expected %d, Got %d.' % (dataset[0][-1], prediction))"
   ]
  },
  {
   "cell_type": "code",
   "execution_count": 7,
   "id": "8d2269e0",
   "metadata": {},
   "outputs": [],
   "source": [
    "dataset = [[2.7810836,2.550537003,0],\n",
    "\t[1.465489372,2.362125076,0],\n",
    "\t[3.396561688,4.400293529,0],\n",
    "\t[1.38807019,1.850220317,0],\n",
    "\t[3.06407232,3.005305973,0],\n",
    "\t[7.627531214,2.759262235,1],\n",
    "\t[5.332441248,2.088626775,1],\n",
    "\t[6.922596716,1.77106367,1],\n",
    "\t[8.675418651,-0.242068655,1],\n",
    "\t[7.673756466,3.508563011,1]]"
   ]
  },
  {
   "cell_type": "code",
   "execution_count": 8,
   "id": "e6dfa7ca",
   "metadata": {},
   "outputs": [
    {
     "data": {
      "text/plain": [
       "[7.627531214, 2.759262235, 1]"
      ]
     },
     "execution_count": 8,
     "metadata": {},
     "output_type": "execute_result"
    }
   ],
   "source": [
    "dataset[5]"
   ]
  },
  {
   "cell_type": "code",
   "execution_count": 9,
   "id": "3d72e17e",
   "metadata": {},
   "outputs": [
    {
     "data": {
      "text/plain": [
       "[[2.7810836, 2.550537003, 0],\n",
       " [1.465489372, 2.362125076, 0],\n",
       " [3.396561688, 4.400293529, 0],\n",
       " [1.38807019, 1.850220317, 0],\n",
       " [3.06407232, 3.005305973, 0],\n",
       " [7.627531214, 2.759262235, 1],\n",
       " [5.332441248, 2.088626775, 1],\n",
       " [6.922596716, 1.77106367, 1],\n",
       " [8.675418651, -0.242068655, 1],\n",
       " [7.673756466, 3.508563011, 1]]"
      ]
     },
     "execution_count": 9,
     "metadata": {},
     "output_type": "execute_result"
    }
   ],
   "source": [
    "dataset"
   ]
  },
  {
   "cell_type": "code",
   "execution_count": 23,
   "id": "9df2d0aa",
   "metadata": {},
   "outputs": [
    {
     "data": {
      "text/plain": [
       "[[2, 2, 2, 2], [2, 2, 2, 2], [2, 2, 2, 2], [2, 2, 2, 2]]"
      ]
     },
     "execution_count": 23,
     "metadata": {},
     "output_type": "execute_result"
    }
   ],
   "source": [
    "[[2 for x in range(4)] for x in range(4)]"
   ]
  }
 ],
 "metadata": {
  "kernelspec": {
   "display_name": "Python 3 (ipykernel)",
   "language": "python",
   "name": "python3"
  },
  "language_info": {
   "codemirror_mode": {
    "name": "ipython",
    "version": 3
   },
   "file_extension": ".py",
   "mimetype": "text/x-python",
   "name": "python",
   "nbconvert_exporter": "python",
   "pygments_lexer": "ipython3",
   "version": "3.9.7"
  }
 },
 "nbformat": 4,
 "nbformat_minor": 5
}
